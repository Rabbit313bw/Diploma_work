{
 "cells": [
  {
   "cell_type": "code",
   "execution_count": 1,
   "id": "1e5eeeab-d03f-4119-ab8e-2d33c2c0541e",
   "metadata": {
    "tags": []
   },
   "outputs": [],
   "source": [
    "import polars as pl\n",
    "import numpy as np\n",
    "import pandas as pd\n",
    "from preprocessing_dataset import dataset_split, OrdinalEncoder, CSRConverter, binarize_rating\n",
    "from models import ALS, EASE, SLIM\n",
    "from metrics import recall_k, ndcg_k\n",
    "from datasets import load_ml_dataset_1m, load_ml_dataset_20m, load_beauty_dataset, load_okko_dataset\n",
    "from scipy.sparse import csr_matrix\n",
    "from GridSearch import GridSearch"
   ]
  },
  {
   "cell_type": "code",
   "execution_count": 3,
   "id": "60c19427-a888-481f-897f-0a6d179518b2",
   "metadata": {},
   "outputs": [],
   "source": [
    "# fopen = open(\"datasets/Netflix/combined_data_2.txt\",'r')\n",
    "# fwrite = open(\"datasets/Netflix/Whole_dataset2.txt\",'a+')\n",
    "\n",
    "# fopen.seek(0); fwrite.seek(0)\n",
    "\n",
    "# fwrite.writelines('CustomerID,Score,Date,MovieID\\n')\n",
    "\n",
    "# for line in fopen.readlines():\n",
    "#     line = line.strip()\n",
    "#     if(line[-1] == ':'):\n",
    "#         movie_id = line[:-1]\n",
    "#     else:\n",
    "#         fwrite.writelines(line+','+movie_id+'\\n')\n",
    "\n",
    "# fopen.close(); fwrite.close()"
   ]
  },
  {
   "cell_type": "code",
   "execution_count": 7,
   "id": "a4e497d6-5a4d-4dfd-af4f-52ffd56e9317",
   "metadata": {},
   "outputs": [],
   "source": [
    "# df = pl.read_csv('datasets/Netflix/Whole_dataset1.txt')\n",
    "# df.filter(pl.col('Score') > 3.5).rename({'CustomerID': 'user', \n",
    "#                                          'Score': 'rating', \n",
    "#                                          'Date': 'timestamp', \n",
    "#                                          'MovieID': 'item'}).write_csv('datasets/Netflix/rating1.csv')\n",
    "\n",
    "\n"
   ]
  },
  {
   "cell_type": "code",
   "execution_count": 2,
   "id": "c4710895-9523-4d56-9c04-0e1685ad825a",
   "metadata": {
    "collapsed": true,
    "jupyter": {
     "outputs_hidden": true
    },
    "tags": []
   },
   "outputs": [
    {
     "name": "stdout",
     "output_type": "stream",
     "text": [
      "EASE is fitting =========>\n",
      "EASE is fitted =================>\n"
     ]
    },
    {
     "name": "stderr",
     "output_type": "stream",
     "text": [
      "6it [00:30,  5.08s/it]\n"
     ]
    },
    {
     "name": "stdout",
     "output_type": "stream",
     "text": [
      "EASE is fitting =========>\n",
      "EASE is fitted =================>\n"
     ]
    },
    {
     "name": "stderr",
     "output_type": "stream",
     "text": [
      "6it [00:27,  4.67s/it]\n"
     ]
    },
    {
     "name": "stdout",
     "output_type": "stream",
     "text": [
      "EASE is fitting =========>\n",
      "EASE is fitted =================>\n"
     ]
    },
    {
     "name": "stderr",
     "output_type": "stream",
     "text": [
      "6it [00:28,  4.70s/it]\n"
     ]
    },
    {
     "name": "stdout",
     "output_type": "stream",
     "text": [
      "EASE is fitting =========>\n",
      "EASE is fitted =================>\n"
     ]
    },
    {
     "name": "stderr",
     "output_type": "stream",
     "text": [
      "6it [00:28,  4.71s/it]\n"
     ]
    },
    {
     "name": "stdout",
     "output_type": "stream",
     "text": [
      "EASE is fitting =========>\n",
      "EASE is fitted =================>\n"
     ]
    },
    {
     "name": "stderr",
     "output_type": "stream",
     "text": [
      "6it [00:28,  4.76s/it]\n"
     ]
    },
    {
     "name": "stdout",
     "output_type": "stream",
     "text": [
      "EASE is fitting =========>\n",
      "EASE is fitted =================>\n"
     ]
    },
    {
     "name": "stderr",
     "output_type": "stream",
     "text": [
      "6it [00:27,  4.52s/it]\n"
     ]
    },
    {
     "name": "stdout",
     "output_type": "stream",
     "text": [
      "EASE is fitting =========>\n",
      "EASE is fitted =================>\n"
     ]
    },
    {
     "name": "stderr",
     "output_type": "stream",
     "text": [
      "6it [00:27,  4.56s/it]\n"
     ]
    },
    {
     "name": "stdout",
     "output_type": "stream",
     "text": [
      "EASE is fitting =========>\n",
      "EASE is fitted =================>\n"
     ]
    },
    {
     "name": "stderr",
     "output_type": "stream",
     "text": [
      "6it [00:26,  4.47s/it]\n"
     ]
    },
    {
     "name": "stdout",
     "output_type": "stream",
     "text": [
      "EASE is fitting =========>\n",
      "EASE is fitted =================>\n"
     ]
    },
    {
     "name": "stderr",
     "output_type": "stream",
     "text": [
      "6it [00:28,  4.83s/it]\n"
     ]
    },
    {
     "name": "stdout",
     "output_type": "stream",
     "text": [
      "EASE is fitting =========>\n",
      "EASE is fitted =================>\n"
     ]
    },
    {
     "name": "stderr",
     "output_type": "stream",
     "text": [
      "6it [00:30,  5.14s/it]\n"
     ]
    },
    {
     "name": "stdout",
     "output_type": "stream",
     "text": [
      "EASE is fitting =========>\n",
      "EASE is fitted =================>\n"
     ]
    },
    {
     "name": "stderr",
     "output_type": "stream",
     "text": [
      "6it [00:30,  5.02s/it]\n"
     ]
    },
    {
     "name": "stdout",
     "output_type": "stream",
     "text": [
      "EASE is fitting =========>\n",
      "EASE is fitted =================>\n"
     ]
    },
    {
     "name": "stderr",
     "output_type": "stream",
     "text": [
      "6it [00:28,  4.83s/it]\n"
     ]
    },
    {
     "name": "stdout",
     "output_type": "stream",
     "text": [
      "EASE is fitting =========>\n",
      "EASE is fitted =================>\n"
     ]
    },
    {
     "name": "stderr",
     "output_type": "stream",
     "text": [
      "6it [00:29,  4.91s/it]\n"
     ]
    },
    {
     "name": "stdout",
     "output_type": "stream",
     "text": [
      "EASE is fitting =========>\n",
      "EASE is fitted =================>\n"
     ]
    },
    {
     "name": "stderr",
     "output_type": "stream",
     "text": [
      "6it [00:34,  5.69s/it]\n"
     ]
    },
    {
     "name": "stdout",
     "output_type": "stream",
     "text": [
      "EASE is fitting =========>\n",
      "EASE is fitted =================>\n"
     ]
    },
    {
     "name": "stderr",
     "output_type": "stream",
     "text": [
      "6it [00:30,  5.08s/it]\n"
     ]
    },
    {
     "name": "stdout",
     "output_type": "stream",
     "text": [
      "EASE is fitting =========>\n",
      "EASE is fitted =================>\n"
     ]
    },
    {
     "name": "stderr",
     "output_type": "stream",
     "text": [
      "6it [00:27,  4.55s/it]\n"
     ]
    },
    {
     "name": "stdout",
     "output_type": "stream",
     "text": [
      "EASE is fitting =========>\n",
      "EASE is fitted =================>\n"
     ]
    },
    {
     "name": "stderr",
     "output_type": "stream",
     "text": [
      "6it [00:24,  4.12s/it]\n"
     ]
    },
    {
     "name": "stdout",
     "output_type": "stream",
     "text": [
      "EASE is fitting =========>\n",
      "EASE is fitted =================>\n"
     ]
    },
    {
     "name": "stderr",
     "output_type": "stream",
     "text": [
      "6it [00:25,  4.22s/it]\n"
     ]
    },
    {
     "name": "stdout",
     "output_type": "stream",
     "text": [
      "EASE is fitting =========>\n",
      "EASE is fitted =================>\n"
     ]
    },
    {
     "name": "stderr",
     "output_type": "stream",
     "text": [
      "6it [00:27,  4.56s/it]\n"
     ]
    },
    {
     "name": "stdout",
     "output_type": "stream",
     "text": [
      "EASE is fitting =========>\n",
      "EASE is fitted =================>\n"
     ]
    },
    {
     "name": "stderr",
     "output_type": "stream",
     "text": [
      "6it [00:26,  4.49s/it]\n"
     ]
    }
   ],
   "source": [
    "dataset = load_okko_dataset()\n",
    "train, test = dataset_split(dataset=dataset, test_size=0.3)\n",
    "param_grid_ease = {'l2': [i for i in range(1, 1000, 50)]}\n",
    "ease = EASE(user='user', item='item', rating='rating', l2_reg=1.0, top_k=50, n_bathes=5)\n",
    "gs_ease = GridSearch(param=param_grid_ease, model=ease, val_size=0.2, history=False)\n",
    "gs_ease.fit(train)"
   ]
  },
  {
   "cell_type": "code",
   "execution_count": 9,
   "id": "b751f5ea-5f80-4922-b1c8-3c5c8ff96fee",
   "metadata": {
    "collapsed": true,
    "jupyter": {
     "outputs_hidden": true
    },
    "tags": []
   },
   "outputs": [
    {
     "name": "stderr",
     "output_type": "stream",
     "text": [
      "D:\\Anaconda\\lib\\site-packages\\implicit\\cpu\\als.py:95: RuntimeWarning: OpenBLAS is configured to use 8 threads. It is highly recommended to disable its internal threadpool by setting the environment variable 'OPENBLAS_NUM_THREADS=1' or by calling 'threadpoolctl.threadpool_limits(1, \"blas\")'. Having OpenBLAS use a threadpool can lead to severe performance issues here.\n",
      "  check_blas_config()\n",
      "D:\\Anaconda\\lib\\site-packages\\implicit\\cpu\\als.py:95: RuntimeWarning: Intel MKL BLAS is configured to use 4 threads. It is highly recommended to disable its internal threadpool by setting the environment variable 'MKL_NUM_THREADS=1' or by callng 'threadpoolctl.threadpool_limits(1, \"blas\")'. Having MKL use a threadpool can lead to severe performance issues\n",
      "  check_blas_config()\n"
     ]
    },
    {
     "data": {
      "application/vnd.jupyter.widget-view+json": {
       "model_id": "4e8a962cc9a54edab1bbf2150582c471",
       "version_major": 2,
       "version_minor": 0
      },
      "text/plain": [
       "  0%|          | 0/10 [00:00<?, ?it/s]"
      ]
     },
     "metadata": {},
     "output_type": "display_data"
    },
    {
     "data": {
      "application/vnd.jupyter.widget-view+json": {
       "model_id": "00e5cc227eed4d7b8753caaf23311768",
       "version_major": 2,
       "version_minor": 0
      },
      "text/plain": [
       "  0%|          | 0/10 [00:00<?, ?it/s]"
      ]
     },
     "metadata": {},
     "output_type": "display_data"
    },
    {
     "data": {
      "application/vnd.jupyter.widget-view+json": {
       "model_id": "e92688ded4df42649abd5ddec9ffba6e",
       "version_major": 2,
       "version_minor": 0
      },
      "text/plain": [
       "  0%|          | 0/10 [00:00<?, ?it/s]"
      ]
     },
     "metadata": {},
     "output_type": "display_data"
    },
    {
     "data": {
      "application/vnd.jupyter.widget-view+json": {
       "model_id": "d52619c3fc8d4142b46217725cab5704",
       "version_major": 2,
       "version_minor": 0
      },
      "text/plain": [
       "  0%|          | 0/10 [00:00<?, ?it/s]"
      ]
     },
     "metadata": {},
     "output_type": "display_data"
    },
    {
     "data": {
      "application/vnd.jupyter.widget-view+json": {
       "model_id": "4b5f492ce94e4a8189f2b4cbe463476a",
       "version_major": 2,
       "version_minor": 0
      },
      "text/plain": [
       "  0%|          | 0/10 [00:00<?, ?it/s]"
      ]
     },
     "metadata": {},
     "output_type": "display_data"
    },
    {
     "data": {
      "application/vnd.jupyter.widget-view+json": {
       "model_id": "729f002babaf49bbb6c46aa8c081b05b",
       "version_major": 2,
       "version_minor": 0
      },
      "text/plain": [
       "  0%|          | 0/10 [00:00<?, ?it/s]"
      ]
     },
     "metadata": {},
     "output_type": "display_data"
    },
    {
     "data": {
      "application/vnd.jupyter.widget-view+json": {
       "model_id": "7d30149bbf1342169fef4d102668c273",
       "version_major": 2,
       "version_minor": 0
      },
      "text/plain": [
       "  0%|          | 0/10 [00:00<?, ?it/s]"
      ]
     },
     "metadata": {},
     "output_type": "display_data"
    },
    {
     "data": {
      "application/vnd.jupyter.widget-view+json": {
       "model_id": "a786d3112aea4574b8067d1a4000152a",
       "version_major": 2,
       "version_minor": 0
      },
      "text/plain": [
       "  0%|          | 0/10 [00:00<?, ?it/s]"
      ]
     },
     "metadata": {},
     "output_type": "display_data"
    },
    {
     "data": {
      "application/vnd.jupyter.widget-view+json": {
       "model_id": "822485dfbdb64c1e8ff831f967eaf8f1",
       "version_major": 2,
       "version_minor": 0
      },
      "text/plain": [
       "  0%|          | 0/10 [00:00<?, ?it/s]"
      ]
     },
     "metadata": {},
     "output_type": "display_data"
    },
    {
     "data": {
      "application/vnd.jupyter.widget-view+json": {
       "model_id": "500b2e8e28b24772a01008d3a738ea22",
       "version_major": 2,
       "version_minor": 0
      },
      "text/plain": [
       "  0%|          | 0/10 [00:00<?, ?it/s]"
      ]
     },
     "metadata": {},
     "output_type": "display_data"
    },
    {
     "data": {
      "application/vnd.jupyter.widget-view+json": {
       "model_id": "802cc96d13d04a52b2ff0f2fcd8aed36",
       "version_major": 2,
       "version_minor": 0
      },
      "text/plain": [
       "  0%|          | 0/10 [00:00<?, ?it/s]"
      ]
     },
     "metadata": {},
     "output_type": "display_data"
    },
    {
     "data": {
      "application/vnd.jupyter.widget-view+json": {
       "model_id": "79a55f129d3b491a913e9aaac0c26189",
       "version_major": 2,
       "version_minor": 0
      },
      "text/plain": [
       "  0%|          | 0/10 [00:00<?, ?it/s]"
      ]
     },
     "metadata": {},
     "output_type": "display_data"
    },
    {
     "data": {
      "application/vnd.jupyter.widget-view+json": {
       "model_id": "7dd12ddb515045a98cae2ba553965ec5",
       "version_major": 2,
       "version_minor": 0
      },
      "text/plain": [
       "  0%|          | 0/10 [00:00<?, ?it/s]"
      ]
     },
     "metadata": {},
     "output_type": "display_data"
    },
    {
     "data": {
      "application/vnd.jupyter.widget-view+json": {
       "model_id": "aa59e1273e15458595c9f5336ef9fa2a",
       "version_major": 2,
       "version_minor": 0
      },
      "text/plain": [
       "  0%|          | 0/10 [00:00<?, ?it/s]"
      ]
     },
     "metadata": {},
     "output_type": "display_data"
    },
    {
     "data": {
      "application/vnd.jupyter.widget-view+json": {
       "model_id": "21f470bdd8464bb69167f81bf308d6d0",
       "version_major": 2,
       "version_minor": 0
      },
      "text/plain": [
       "  0%|          | 0/10 [00:00<?, ?it/s]"
      ]
     },
     "metadata": {},
     "output_type": "display_data"
    },
    {
     "data": {
      "application/vnd.jupyter.widget-view+json": {
       "model_id": "e629392b448b4bc59401f884ee1b8766",
       "version_major": 2,
       "version_minor": 0
      },
      "text/plain": [
       "  0%|          | 0/10 [00:00<?, ?it/s]"
      ]
     },
     "metadata": {},
     "output_type": "display_data"
    },
    {
     "data": {
      "application/vnd.jupyter.widget-view+json": {
       "model_id": "630d283baad2483f935460ee4fcf90eb",
       "version_major": 2,
       "version_minor": 0
      },
      "text/plain": [
       "  0%|          | 0/10 [00:00<?, ?it/s]"
      ]
     },
     "metadata": {},
     "output_type": "display_data"
    },
    {
     "data": {
      "application/vnd.jupyter.widget-view+json": {
       "model_id": "855fc9777c9b4f5da13a3754fca4a2c9",
       "version_major": 2,
       "version_minor": 0
      },
      "text/plain": [
       "  0%|          | 0/10 [00:00<?, ?it/s]"
      ]
     },
     "metadata": {},
     "output_type": "display_data"
    },
    {
     "data": {
      "application/vnd.jupyter.widget-view+json": {
       "model_id": "a73c356f24c1411292129537407d0859",
       "version_major": 2,
       "version_minor": 0
      },
      "text/plain": [
       "  0%|          | 0/10 [00:00<?, ?it/s]"
      ]
     },
     "metadata": {},
     "output_type": "display_data"
    },
    {
     "data": {
      "application/vnd.jupyter.widget-view+json": {
       "model_id": "2af28c2074a14d7c830ab02aa10fd265",
       "version_major": 2,
       "version_minor": 0
      },
      "text/plain": [
       "  0%|          | 0/10 [00:00<?, ?it/s]"
      ]
     },
     "metadata": {},
     "output_type": "display_data"
    },
    {
     "data": {
      "application/vnd.jupyter.widget-view+json": {
       "model_id": "3ac0f83046a24845a3410564b4d1f174",
       "version_major": 2,
       "version_minor": 0
      },
      "text/plain": [
       "  0%|          | 0/10 [00:00<?, ?it/s]"
      ]
     },
     "metadata": {},
     "output_type": "display_data"
    },
    {
     "data": {
      "application/vnd.jupyter.widget-view+json": {
       "model_id": "2bb0759865d04ad6a0249856ff81040a",
       "version_major": 2,
       "version_minor": 0
      },
      "text/plain": [
       "  0%|          | 0/10 [00:00<?, ?it/s]"
      ]
     },
     "metadata": {},
     "output_type": "display_data"
    },
    {
     "data": {
      "application/vnd.jupyter.widget-view+json": {
       "model_id": "2405896a03b84136afe2120c96b31931",
       "version_major": 2,
       "version_minor": 0
      },
      "text/plain": [
       "  0%|          | 0/10 [00:00<?, ?it/s]"
      ]
     },
     "metadata": {},
     "output_type": "display_data"
    },
    {
     "data": {
      "application/vnd.jupyter.widget-view+json": {
       "model_id": "08ad860faad34af8901f05c834ccfa97",
       "version_major": 2,
       "version_minor": 0
      },
      "text/plain": [
       "  0%|          | 0/10 [00:00<?, ?it/s]"
      ]
     },
     "metadata": {},
     "output_type": "display_data"
    },
    {
     "data": {
      "application/vnd.jupyter.widget-view+json": {
       "model_id": "605858d78de645398287aa429281669a",
       "version_major": 2,
       "version_minor": 0
      },
      "text/plain": [
       "  0%|          | 0/10 [00:00<?, ?it/s]"
      ]
     },
     "metadata": {},
     "output_type": "display_data"
    },
    {
     "data": {
      "application/vnd.jupyter.widget-view+json": {
       "model_id": "10ecc0b8335440fd8ad172ddc301477e",
       "version_major": 2,
       "version_minor": 0
      },
      "text/plain": [
       "  0%|          | 0/10 [00:00<?, ?it/s]"
      ]
     },
     "metadata": {},
     "output_type": "display_data"
    },
    {
     "data": {
      "application/vnd.jupyter.widget-view+json": {
       "model_id": "1f376201f66944ed82954f9397e750d7",
       "version_major": 2,
       "version_minor": 0
      },
      "text/plain": [
       "  0%|          | 0/10 [00:00<?, ?it/s]"
      ]
     },
     "metadata": {},
     "output_type": "display_data"
    },
    {
     "data": {
      "application/vnd.jupyter.widget-view+json": {
       "model_id": "5863a5df5b8a417da5739105582d66b2",
       "version_major": 2,
       "version_minor": 0
      },
      "text/plain": [
       "  0%|          | 0/10 [00:00<?, ?it/s]"
      ]
     },
     "metadata": {},
     "output_type": "display_data"
    },
    {
     "data": {
      "application/vnd.jupyter.widget-view+json": {
       "model_id": "6c7f0873385441f2a3ebc0a0dfa2a196",
       "version_major": 2,
       "version_minor": 0
      },
      "text/plain": [
       "  0%|          | 0/10 [00:00<?, ?it/s]"
      ]
     },
     "metadata": {},
     "output_type": "display_data"
    },
    {
     "data": {
      "application/vnd.jupyter.widget-view+json": {
       "model_id": "e6693e4166d9488fbbc68342e53c9f9a",
       "version_major": 2,
       "version_minor": 0
      },
      "text/plain": [
       "  0%|          | 0/10 [00:00<?, ?it/s]"
      ]
     },
     "metadata": {},
     "output_type": "display_data"
    },
    {
     "data": {
      "application/vnd.jupyter.widget-view+json": {
       "model_id": "9825c1f1e2304408852b28ad9264d17f",
       "version_major": 2,
       "version_minor": 0
      },
      "text/plain": [
       "  0%|          | 0/10 [00:00<?, ?it/s]"
      ]
     },
     "metadata": {},
     "output_type": "display_data"
    },
    {
     "data": {
      "application/vnd.jupyter.widget-view+json": {
       "model_id": "881703b3bd844ee895b5d0b5e5f5a1a8",
       "version_major": 2,
       "version_minor": 0
      },
      "text/plain": [
       "  0%|          | 0/10 [00:00<?, ?it/s]"
      ]
     },
     "metadata": {},
     "output_type": "display_data"
    },
    {
     "data": {
      "application/vnd.jupyter.widget-view+json": {
       "model_id": "bd011e2bd6c7446f9693310e2f9f1da3",
       "version_major": 2,
       "version_minor": 0
      },
      "text/plain": [
       "  0%|          | 0/10 [00:00<?, ?it/s]"
      ]
     },
     "metadata": {},
     "output_type": "display_data"
    },
    {
     "data": {
      "application/vnd.jupyter.widget-view+json": {
       "model_id": "167c4690286f49898eed37d3e05c66c4",
       "version_major": 2,
       "version_minor": 0
      },
      "text/plain": [
       "  0%|          | 0/10 [00:00<?, ?it/s]"
      ]
     },
     "metadata": {},
     "output_type": "display_data"
    },
    {
     "data": {
      "application/vnd.jupyter.widget-view+json": {
       "model_id": "b16821a98efa4f7ab6b3b926bb6d0586",
       "version_major": 2,
       "version_minor": 0
      },
      "text/plain": [
       "  0%|          | 0/10 [00:00<?, ?it/s]"
      ]
     },
     "metadata": {},
     "output_type": "display_data"
    }
   ],
   "source": [
    "dataset = load_okko_dataset()\n",
    "train, test = dataset_split(dataset, test_size=0.3)\n",
    "param_grid_als = {'l2': [1, 10, 20, 50, 75, 100, 150], 'n_factors': [10, 50, 100, 500, 1000]}\n",
    "als = ALS('user', 'item', 'rating', n_factors=10, n_iterations=10, reg=10, top_k=50)\n",
    "gs_als = GridSearch(param=param_grid_als, model=als, val_size=0.2, history=False)\n",
    "gs_als.fit(train)"
   ]
  },
  {
   "cell_type": "code",
   "execution_count": 12,
   "id": "a3f96147-36c7-42a6-91d2-3f6e89183308",
   "metadata": {
    "tags": []
   },
   "outputs": [
    {
     "name": "stdout",
     "output_type": "stream",
     "text": [
      "ElasticNet for item =========>\n"
     ]
    },
    {
     "name": "stderr",
     "output_type": "stream",
     "text": [
      "100%|█████████████████████████████████████████████████████████████████████████████| 6019/6019 [00:54<00:00, 110.27it/s]\n"
     ]
    },
    {
     "name": "stdout",
     "output_type": "stream",
     "text": [
      "SLIM is fitted =================>\n"
     ]
    },
    {
     "name": "stderr",
     "output_type": "stream",
     "text": [
      "6it [00:23,  3.95s/it]\n"
     ]
    },
    {
     "name": "stdout",
     "output_type": "stream",
     "text": [
      "ElasticNet for item =========>\n"
     ]
    },
    {
     "name": "stderr",
     "output_type": "stream",
     "text": [
      "100%|██████████████████████████████████████████████████████████████████████████████| 6019/6019 [01:12<00:00, 83.36it/s]\n"
     ]
    },
    {
     "name": "stdout",
     "output_type": "stream",
     "text": [
      "SLIM is fitted =================>\n"
     ]
    },
    {
     "name": "stderr",
     "output_type": "stream",
     "text": [
      "6it [00:17,  2.90s/it]\n"
     ]
    },
    {
     "name": "stdout",
     "output_type": "stream",
     "text": [
      "ElasticNet for item =========>\n"
     ]
    },
    {
     "name": "stderr",
     "output_type": "stream",
     "text": [
      "100%|██████████████████████████████████████████████████████████████████████████████| 6019/6019 [01:01<00:00, 97.46it/s]\n"
     ]
    },
    {
     "name": "stdout",
     "output_type": "stream",
     "text": [
      "SLIM is fitted =================>\n"
     ]
    },
    {
     "name": "stderr",
     "output_type": "stream",
     "text": [
      "6it [00:18,  3.15s/it]\n"
     ]
    },
    {
     "name": "stdout",
     "output_type": "stream",
     "text": [
      "ElasticNet for item =========>\n"
     ]
    },
    {
     "name": "stderr",
     "output_type": "stream",
     "text": [
      "100%|██████████████████████████████████████████████████████████████████████████████| 6019/6019 [01:04<00:00, 92.97it/s]\n"
     ]
    },
    {
     "name": "stdout",
     "output_type": "stream",
     "text": [
      "SLIM is fitted =================>\n"
     ]
    },
    {
     "name": "stderr",
     "output_type": "stream",
     "text": [
      "6it [00:17,  2.91s/it]\n"
     ]
    },
    {
     "name": "stdout",
     "output_type": "stream",
     "text": [
      "ElasticNet for item =========>\n"
     ]
    },
    {
     "name": "stderr",
     "output_type": "stream",
     "text": [
      "100%|██████████████████████████████████████████████████████████████████████████████| 6019/6019 [01:05<00:00, 92.32it/s]\n"
     ]
    },
    {
     "name": "stdout",
     "output_type": "stream",
     "text": [
      "SLIM is fitted =================>\n"
     ]
    },
    {
     "name": "stderr",
     "output_type": "stream",
     "text": [
      "6it [00:18,  3.02s/it]\n"
     ]
    },
    {
     "name": "stdout",
     "output_type": "stream",
     "text": [
      "ElasticNet for item =========>\n"
     ]
    },
    {
     "name": "stderr",
     "output_type": "stream",
     "text": [
      "100%|██████████████████████████████████████████████████████████████████████████████| 6019/6019 [01:14<00:00, 81.27it/s]\n"
     ]
    },
    {
     "name": "stdout",
     "output_type": "stream",
     "text": [
      "SLIM is fitted =================>\n"
     ]
    },
    {
     "name": "stderr",
     "output_type": "stream",
     "text": [
      "6it [00:15,  2.55s/it]\n"
     ]
    },
    {
     "name": "stdout",
     "output_type": "stream",
     "text": [
      "ElasticNet for item =========>\n"
     ]
    },
    {
     "name": "stderr",
     "output_type": "stream",
     "text": [
      "100%|██████████████████████████████████████████████████████████████████████████████| 6019/6019 [01:11<00:00, 84.25it/s]\n"
     ]
    },
    {
     "name": "stdout",
     "output_type": "stream",
     "text": [
      "SLIM is fitted =================>\n"
     ]
    },
    {
     "name": "stderr",
     "output_type": "stream",
     "text": [
      "6it [00:15,  2.53s/it]\n"
     ]
    },
    {
     "name": "stdout",
     "output_type": "stream",
     "text": [
      "ElasticNet for item =========>\n"
     ]
    },
    {
     "name": "stderr",
     "output_type": "stream",
     "text": [
      "100%|██████████████████████████████████████████████████████████████████████████████| 6019/6019 [01:11<00:00, 84.27it/s]\n"
     ]
    },
    {
     "name": "stdout",
     "output_type": "stream",
     "text": [
      "SLIM is fitted =================>\n"
     ]
    },
    {
     "name": "stderr",
     "output_type": "stream",
     "text": [
      "6it [00:14,  2.41s/it]\n"
     ]
    },
    {
     "name": "stdout",
     "output_type": "stream",
     "text": [
      "ElasticNet for item =========>\n"
     ]
    },
    {
     "name": "stderr",
     "output_type": "stream",
     "text": [
      "100%|██████████████████████████████████████████████████████████████████████████████| 6019/6019 [01:07<00:00, 88.94it/s]\n"
     ]
    },
    {
     "name": "stdout",
     "output_type": "stream",
     "text": [
      "SLIM is fitted =================>\n"
     ]
    },
    {
     "name": "stderr",
     "output_type": "stream",
     "text": [
      "6it [00:15,  2.57s/it]\n"
     ]
    },
    {
     "name": "stdout",
     "output_type": "stream",
     "text": [
      "ElasticNet for item =========>\n"
     ]
    },
    {
     "name": "stderr",
     "output_type": "stream",
     "text": [
      "100%|██████████████████████████████████████████████████████████████████████████████| 6019/6019 [01:10<00:00, 85.87it/s]\n"
     ]
    },
    {
     "name": "stdout",
     "output_type": "stream",
     "text": [
      "SLIM is fitted =================>\n"
     ]
    },
    {
     "name": "stderr",
     "output_type": "stream",
     "text": [
      "6it [00:16,  2.71s/it]\n"
     ]
    },
    {
     "name": "stdout",
     "output_type": "stream",
     "text": [
      "ElasticNet for item =========>\n"
     ]
    },
    {
     "name": "stderr",
     "output_type": "stream",
     "text": [
      "100%|█████████████████████████████████████████████████████████████████████████████| 6019/6019 [00:55<00:00, 109.34it/s]\n"
     ]
    },
    {
     "name": "stdout",
     "output_type": "stream",
     "text": [
      "SLIM is fitted =================>\n"
     ]
    },
    {
     "name": "stderr",
     "output_type": "stream",
     "text": [
      "6it [00:15,  2.53s/it]\n"
     ]
    },
    {
     "name": "stdout",
     "output_type": "stream",
     "text": [
      "ElasticNet for item =========>\n"
     ]
    },
    {
     "name": "stderr",
     "output_type": "stream",
     "text": [
      "100%|██████████████████████████████████████████████████████████████████████████████| 6019/6019 [01:08<00:00, 87.93it/s]\n"
     ]
    },
    {
     "name": "stdout",
     "output_type": "stream",
     "text": [
      "SLIM is fitted =================>\n"
     ]
    },
    {
     "name": "stderr",
     "output_type": "stream",
     "text": [
      "6it [00:15,  2.53s/it]\n"
     ]
    },
    {
     "name": "stdout",
     "output_type": "stream",
     "text": [
      "ElasticNet for item =========>\n"
     ]
    },
    {
     "name": "stderr",
     "output_type": "stream",
     "text": [
      "100%|█████████████████████████████████████████████████████████████████████████████| 6019/6019 [00:55<00:00, 108.55it/s]\n"
     ]
    },
    {
     "name": "stdout",
     "output_type": "stream",
     "text": [
      "SLIM is fitted =================>\n"
     ]
    },
    {
     "name": "stderr",
     "output_type": "stream",
     "text": [
      "6it [00:14,  2.50s/it]\n"
     ]
    },
    {
     "name": "stdout",
     "output_type": "stream",
     "text": [
      "ElasticNet for item =========>\n"
     ]
    },
    {
     "name": "stderr",
     "output_type": "stream",
     "text": [
      "100%|██████████████████████████████████████████████████████████████████████████████| 6019/6019 [01:07<00:00, 88.88it/s]\n"
     ]
    },
    {
     "name": "stdout",
     "output_type": "stream",
     "text": [
      "SLIM is fitted =================>\n"
     ]
    },
    {
     "name": "stderr",
     "output_type": "stream",
     "text": [
      "6it [00:15,  2.64s/it]\n"
     ]
    },
    {
     "name": "stdout",
     "output_type": "stream",
     "text": [
      "ElasticNet for item =========>\n"
     ]
    },
    {
     "name": "stderr",
     "output_type": "stream",
     "text": [
      "100%|█████████████████████████████████████████████████████████████████████████████| 6019/6019 [00:54<00:00, 109.75it/s]\n"
     ]
    },
    {
     "name": "stdout",
     "output_type": "stream",
     "text": [
      "SLIM is fitted =================>\n"
     ]
    },
    {
     "name": "stderr",
     "output_type": "stream",
     "text": [
      "6it [00:14,  2.42s/it]\n"
     ]
    },
    {
     "name": "stdout",
     "output_type": "stream",
     "text": [
      "ElasticNet for item =========>\n"
     ]
    },
    {
     "name": "stderr",
     "output_type": "stream",
     "text": [
      "100%|█████████████████████████████████████████████████████████████████████████████| 6019/6019 [00:55<00:00, 107.91it/s]\n"
     ]
    },
    {
     "name": "stdout",
     "output_type": "stream",
     "text": [
      "SLIM is fitted =================>\n"
     ]
    },
    {
     "name": "stderr",
     "output_type": "stream",
     "text": [
      "6it [00:16,  2.70s/it]\n"
     ]
    }
   ],
   "source": [
    "param_grid_slim = {'l1': [1, 10], 'l2': [0, 10, 50, 100, 150, 200, 250, 300]}\n",
    "slim = SLIM(user='user', item='item', rating='rating', l1_reg=1.0, l2_reg=1.0, top_k=50, n_bathes=5)\n",
    "gs_slim = GridSearch(param=param_grid_slim, model=slim, val_size=0.2, history=False)\n",
    "gs_slim.fit(train)"
   ]
  },
  {
   "cell_type": "code",
   "execution_count": 11,
   "id": "6456aa75-5585-45a2-957f-73d3b56b446d",
   "metadata": {},
   "outputs": [
    {
     "data": {
      "text/plain": [
       "{'recall@1': {'l2': 20, 'n_factors': 100},\n",
       " 'ndcg@1': {'l2': 10, 'n_factors': 1000},\n",
       " 'recall@5': {'l2': 20, 'n_factors': 1000},\n",
       " 'ndcg@5': {'l2': 10, 'n_factors': 1000},\n",
       " 'recall@10': {'l2': 20, 'n_factors': 1000},\n",
       " 'ndcg@10': {'l2': 10, 'n_factors': 1000},\n",
       " 'recall@50': {'l2': 20, 'n_factors': 1000},\n",
       " 'ndcg@50': {'l2': 10, 'n_factors': 1000}}"
      ]
     },
     "execution_count": 11,
     "metadata": {},
     "output_type": "execute_result"
    }
   ],
   "source": [
    "gs_als.best_param"
   ]
  },
  {
   "cell_type": "code",
   "execution_count": 7,
   "id": "010b8848-bdaf-4520-a409-3dc4bd91b2ff",
   "metadata": {},
   "outputs": [
    {
     "data": {
      "text/plain": [
       "{'recall@1': {'l2': 101},\n",
       " 'ndcg@1': {'l2': 51},\n",
       " 'recall@5': {'l2': 501},\n",
       " 'ndcg@5': {'l2': 51},\n",
       " 'recall@10': {'l2': 351},\n",
       " 'ndcg@10': {'l2': 51},\n",
       " 'recall@50': {'l2': 951},\n",
       " 'ndcg@50': {'l2': 51}}"
      ]
     },
     "execution_count": 7,
     "metadata": {},
     "output_type": "execute_result"
    }
   ],
   "source": [
    "gs_ease.best_param"
   ]
  },
  {
   "cell_type": "code",
   "execution_count": 14,
   "id": "cffffadf-8cc2-4987-adb4-2efa017552cb",
   "metadata": {},
   "outputs": [
    {
     "data": {
      "text/plain": [
       "{'recall@1': {'l1': 1, 'l2': 300},\n",
       " 'ndcg@1': {'l1': 1, 'l2': 300},\n",
       " 'recall@5': {'l1': 1, 'l2': 300},\n",
       " 'ndcg@5': {'l1': 1, 'l2': 300},\n",
       " 'recall@10': {'l1': 1, 'l2': 300},\n",
       " 'ndcg@10': {'l1': 1, 'l2': 300},\n",
       " 'recall@50': {'l1': 1, 'l2': 300},\n",
       " 'ndcg@50': {'l1': 1, 'l2': 300}}"
      ]
     },
     "execution_count": 14,
     "metadata": {},
     "output_type": "execute_result"
    }
   ],
   "source": [
    "gs_slim.best_param"
   ]
  },
  {
   "cell_type": "code",
   "execution_count": 3,
   "id": "1a04ed00-200e-4617-9a41-974d8127e07c",
   "metadata": {},
   "outputs": [],
   "source": [
    "train, test = dataset_split(dataset, test_size=0.3)"
   ]
  },
  {
   "cell_type": "code",
   "execution_count": 3,
   "id": "9b204385-9eb8-437c-b6ab-a63610e0581a",
   "metadata": {},
   "outputs": [],
   "source": [
    "dataset = load_ml_dataset_20m()\n",
    "train, test = dataset_split(dataset=dataset, test_size=0.3)"
   ]
  },
  {
   "cell_type": "code",
   "execution_count": 61,
   "id": "25c228b5-44d1-4811-9226-37a35d7168d8",
   "metadata": {},
   "outputs": [
    {
     "name": "stdout",
     "output_type": "stream",
     "text": [
      "EASE is fitting =========>\n",
      "EASE is fitted =================>\n"
     ]
    },
    {
     "name": "stderr",
     "output_type": "stream",
     "text": [
      "21it [07:34, 21.63s/it]\n"
     ]
    }
   ],
   "source": [
    "ease = EASE(user='user', item='item', rating='rating',\n",
    "              l2_reg=1000.0, top_k=50, binarize=False, n_bathes=20)\n",
    "ease_recommendations = ease.fit_predict(train)\n"
   ]
  },
  {
   "cell_type": "code",
   "execution_count": 3,
   "id": "4203de57-d9a4-4c91-814a-db8dee3aa02c",
   "metadata": {},
   "outputs": [],
   "source": [
    "best_param =   {'recall@1': {'l2': 951},\n",
    " 'ndcg@1': {'l2': 351},\n",
    " 'recall@5': {'l2': 951},\n",
    " 'ndcg@5': {'l2': 351},\n",
    " 'recall@10': {'l2': 851},\n",
    " 'ndcg@10': {'l2': 351},\n",
    " 'recall@50': {'l2': 951},\n",
    " 'ndcg@50': {'l2': 451}}"
   ]
  },
  {
   "cell_type": "code",
   "execution_count": 4,
   "id": "3d8f9457-c18b-4894-95c4-4f16d3249229",
   "metadata": {},
   "outputs": [
    {
     "ename": "NameError",
     "evalue": "name 'gs_ease' is not defined",
     "output_type": "error",
     "traceback": [
      "\u001b[1;31m---------------------------------------------------------------------------\u001b[0m",
      "\u001b[1;31mNameError\u001b[0m                                 Traceback (most recent call last)",
      "Cell \u001b[1;32mIn[4], line 1\u001b[0m\n\u001b[1;32m----> 1\u001b[0m \u001b[43mgs_ease\u001b[49m\u001b[38;5;241m.\u001b[39mbest_param\n",
      "\u001b[1;31mNameError\u001b[0m: name 'gs_ease' is not defined"
     ]
    }
   ],
   "source": [
    "gs_ease.best_param"
   ]
  },
  {
   "cell_type": "code",
   "execution_count": 5,
   "id": "e7d979e8-c567-41cd-b073-2942e1252102",
   "metadata": {},
   "outputs": [
    {
     "name": "stdout",
     "output_type": "stream",
     "text": [
      "recall@1 {'l2': 951}\n",
      "ndcg@1 {'l2': 351}\n",
      "recall@5 {'l2': 951}\n",
      "ndcg@5 {'l2': 351}\n",
      "recall@10 {'l2': 851}\n",
      "ndcg@10 {'l2': 351}\n",
      "recall@50 {'l2': 951}\n",
      "ndcg@50 {'l2': 451}\n"
     ]
    }
   ],
   "source": [
    "for metric, param in zip(best_param, best_param.values()):\n",
    "    print(metric, param)"
   ]
  },
  {
   "cell_type": "code",
   "execution_count": 37,
   "id": "b44d30bc-db31-4123-b86d-399f71cc8814",
   "metadata": {},
   "outputs": [
    {
     "data": {
      "text/plain": [
       "True"
      ]
     },
     "execution_count": 37,
     "metadata": {},
     "output_type": "execute_result"
    }
   ],
   "source": [
    "gs_als"
   ]
  },
  {
   "cell_type": "code",
   "execution_count": 2,
   "id": "a6174dd4-61ac-4adb-9852-7ff10a9bd45f",
   "metadata": {},
   "outputs": [],
   "source": [
    "dataset = load_ml_dataset_20m()\n",
    "train, test = dataset_split(dataset=dataset, test_size=0.3)"
   ]
  },
  {
   "cell_type": "code",
   "execution_count": 16,
   "id": "914f5f23-164c-43e0-81f3-a53c5216f859",
   "metadata": {},
   "outputs": [
    {
     "data": {
      "text/html": [
       "<div><style>\n",
       ".dataframe > thead > tr,\n",
       ".dataframe > tbody > tr {\n",
       "  text-align: right;\n",
       "  white-space: pre-wrap;\n",
       "}\n",
       "</style>\n",
       "<small>shape: (127_282, 4)</small><table border=\"1\" class=\"dataframe\"><thead><tr><th>user</th><th>item</th><th>rating</th><th>timestamp</th></tr><tr><td>i64</td><td>i64</td><td>i64</td><td>f64</td></tr></thead><tbody><tr><td>143431</td><td>4208</td><td>10</td><td>4.2187e7</td></tr><tr><td>143431</td><td>1409</td><td>10</td><td>4.2174e7</td></tr><tr><td>251438</td><td>3944</td><td>9</td><td>4.3940e7</td></tr><tr><td>251438</td><td>5396</td><td>8</td><td>4.3926e7</td></tr><tr><td>364965</td><td>9925</td><td>10</td><td>4.4257e7</td></tr><tr><td>&hellip;</td><td>&hellip;</td><td>&hellip;</td><td>&hellip;</td></tr><tr><td>139420</td><td>1339</td><td>6</td><td>4.2653e7</td></tr><tr><td>139420</td><td>1605</td><td>8</td><td>4.2652e7</td></tr><tr><td>139420</td><td>2962</td><td>10</td><td>4.2652e7</td></tr><tr><td>139420</td><td>3582</td><td>8</td><td>4.2652e7</td></tr><tr><td>139420</td><td>3627</td><td>8</td><td>4.2652e7</td></tr></tbody></table></div>"
      ],
      "text/plain": [
       "shape: (127_282, 4)\n",
       "┌────────┬──────┬────────┬───────────┐\n",
       "│ user   ┆ item ┆ rating ┆ timestamp │\n",
       "│ ---    ┆ ---  ┆ ---    ┆ ---       │\n",
       "│ i64    ┆ i64  ┆ i64    ┆ f64       │\n",
       "╞════════╪══════╪════════╪═══════════╡\n",
       "│ 143431 ┆ 4208 ┆ 10     ┆ 4.2187e7  │\n",
       "│ 143431 ┆ 1409 ┆ 10     ┆ 4.2174e7  │\n",
       "│ 251438 ┆ 3944 ┆ 9      ┆ 4.3940e7  │\n",
       "│ 251438 ┆ 5396 ┆ 8      ┆ 4.3926e7  │\n",
       "│ 364965 ┆ 9925 ┆ 10     ┆ 4.4257e7  │\n",
       "│ …      ┆ …    ┆ …      ┆ …         │\n",
       "│ 139420 ┆ 1339 ┆ 6      ┆ 4.2653e7  │\n",
       "│ 139420 ┆ 1605 ┆ 8      ┆ 4.2652e7  │\n",
       "│ 139420 ┆ 2962 ┆ 10     ┆ 4.2652e7  │\n",
       "│ 139420 ┆ 3582 ┆ 8      ┆ 4.2652e7  │\n",
       "│ 139420 ┆ 3627 ┆ 8      ┆ 4.2652e7  │\n",
       "└────────┴──────┴────────┴───────────┘"
      ]
     },
     "execution_count": 16,
     "metadata": {},
     "output_type": "execute_result"
    }
   ],
   "source": []
  },
  {
   "cell_type": "code",
   "execution_count": 17,
   "id": "fd3cfb92-1cd0-4049-bdc5-ec37baea7b27",
   "metadata": {},
   "outputs": [],
   "source": [
    "tab_recall = {}\n",
    "tab_ndcg = {}\n",
    "tab_recall['model'] = []\n",
    "tab_ndcg['model'] = []\n",
    "tab_recall['recall@1'] = []\n",
    "tab_recall['recall@5'] = []\n",
    "tab_recall['recall@10'] = []\n",
    "tab_recall['recall@50'] = []\n",
    "tab_ndcg['ndcg@1'] = []\n",
    "tab_ndcg['ndcg@5'] = []\n",
    "tab_ndcg['ndcg@10'] = []\n",
    "tab_ndcg['ndcg@50'] = []"
   ]
  },
  {
   "cell_type": "code",
   "execution_count": 19,
   "id": "2208d695-ff8c-42ba-b92f-ba4ecd881fe2",
   "metadata": {},
   "outputs": [
    {
     "data": {
      "application/vnd.jupyter.widget-view+json": {
       "model_id": "000ed4469676448ea8d2ee123689b3cc",
       "version_major": 2,
       "version_minor": 0
      },
      "text/plain": [
       "  0%|          | 0/10 [00:00<?, ?it/s]"
      ]
     },
     "metadata": {},
     "output_type": "display_data"
    },
    {
     "data": {
      "application/vnd.jupyter.widget-view+json": {
       "model_id": "6a540e0f64104588b1f5de960acc1a70",
       "version_major": 2,
       "version_minor": 0
      },
      "text/plain": [
       "  0%|          | 0/10 [00:00<?, ?it/s]"
      ]
     },
     "metadata": {},
     "output_type": "display_data"
    },
    {
     "data": {
      "application/vnd.jupyter.widget-view+json": {
       "model_id": "8f4f80df67f149da95c9815676ecd796",
       "version_major": 2,
       "version_minor": 0
      },
      "text/plain": [
       "  0%|          | 0/10 [00:00<?, ?it/s]"
      ]
     },
     "metadata": {},
     "output_type": "display_data"
    },
    {
     "data": {
      "application/vnd.jupyter.widget-view+json": {
       "model_id": "21e1b1e25ea54dac9f13f02ff60d7335",
       "version_major": 2,
       "version_minor": 0
      },
      "text/plain": [
       "  0%|          | 0/10 [00:00<?, ?it/s]"
      ]
     },
     "metadata": {},
     "output_type": "display_data"
    },
    {
     "data": {
      "application/vnd.jupyter.widget-view+json": {
       "model_id": "e91f0287ac9f44449efc7264e4b60536",
       "version_major": 2,
       "version_minor": 0
      },
      "text/plain": [
       "  0%|          | 0/10 [00:00<?, ?it/s]"
      ]
     },
     "metadata": {},
     "output_type": "display_data"
    },
    {
     "data": {
      "application/vnd.jupyter.widget-view+json": {
       "model_id": "2ad9b4caa4f64e12b1a9e5d8fda6479a",
       "version_major": 2,
       "version_minor": 0
      },
      "text/plain": [
       "  0%|          | 0/10 [00:00<?, ?it/s]"
      ]
     },
     "metadata": {},
     "output_type": "display_data"
    },
    {
     "data": {
      "application/vnd.jupyter.widget-view+json": {
       "model_id": "b01ddcfb464c4e93b819a52bc8b5043b",
       "version_major": 2,
       "version_minor": 0
      },
      "text/plain": [
       "  0%|          | 0/10 [00:00<?, ?it/s]"
      ]
     },
     "metadata": {},
     "output_type": "display_data"
    },
    {
     "data": {
      "application/vnd.jupyter.widget-view+json": {
       "model_id": "b83f0813ef094046998ba0d4eeda8e57",
       "version_major": 2,
       "version_minor": 0
      },
      "text/plain": [
       "  0%|          | 0/10 [00:00<?, ?it/s]"
      ]
     },
     "metadata": {},
     "output_type": "display_data"
    },
    {
     "name": "stdout",
     "output_type": "stream",
     "text": [
      "EASE is fitting =========>\n",
      "EASE is fitted =================>\n"
     ]
    },
    {
     "name": "stderr",
     "output_type": "stream",
     "text": [
      "6it [00:52,  8.83s/it]\n"
     ]
    },
    {
     "name": "stdout",
     "output_type": "stream",
     "text": [
      "EASE is fitting =========>\n",
      "EASE is fitted =================>\n"
     ]
    },
    {
     "name": "stderr",
     "output_type": "stream",
     "text": [
      "6it [00:48,  8.12s/it]\n"
     ]
    },
    {
     "name": "stdout",
     "output_type": "stream",
     "text": [
      "EASE is fitting =========>\n",
      "EASE is fitted =================>\n"
     ]
    },
    {
     "name": "stderr",
     "output_type": "stream",
     "text": [
      "6it [00:51,  8.52s/it]\n"
     ]
    },
    {
     "name": "stdout",
     "output_type": "stream",
     "text": [
      "EASE is fitting =========>\n",
      "EASE is fitted =================>\n"
     ]
    },
    {
     "name": "stderr",
     "output_type": "stream",
     "text": [
      "6it [00:48,  8.02s/it]\n"
     ]
    },
    {
     "name": "stdout",
     "output_type": "stream",
     "text": [
      "EASE is fitting =========>\n",
      "EASE is fitted =================>\n"
     ]
    },
    {
     "name": "stderr",
     "output_type": "stream",
     "text": [
      "6it [00:48,  8.16s/it]\n"
     ]
    },
    {
     "name": "stdout",
     "output_type": "stream",
     "text": [
      "EASE is fitting =========>\n",
      "EASE is fitted =================>\n"
     ]
    },
    {
     "name": "stderr",
     "output_type": "stream",
     "text": [
      "6it [00:51,  8.64s/it]\n"
     ]
    },
    {
     "name": "stdout",
     "output_type": "stream",
     "text": [
      "EASE is fitting =========>\n",
      "EASE is fitted =================>\n"
     ]
    },
    {
     "name": "stderr",
     "output_type": "stream",
     "text": [
      "6it [00:50,  8.41s/it]\n"
     ]
    },
    {
     "name": "stdout",
     "output_type": "stream",
     "text": [
      "EASE is fitting =========>\n",
      "EASE is fitted =================>\n"
     ]
    },
    {
     "name": "stderr",
     "output_type": "stream",
     "text": [
      "6it [00:49,  8.29s/it]\n"
     ]
    },
    {
     "name": "stdout",
     "output_type": "stream",
     "text": [
      "ElasticNet for item =========>\n"
     ]
    },
    {
     "name": "stderr",
     "output_type": "stream",
     "text": [
      "100%|██████████████████████████████████████████████████████████████████████████████| 6552/6552 [02:17<00:00, 47.74it/s]\n"
     ]
    },
    {
     "name": "stdout",
     "output_type": "stream",
     "text": [
      "SLIM is fitted =================>\n"
     ]
    },
    {
     "name": "stderr",
     "output_type": "stream",
     "text": [
      "6it [00:31,  5.19s/it]\n"
     ]
    },
    {
     "name": "stdout",
     "output_type": "stream",
     "text": [
      "ElasticNet for item =========>\n"
     ]
    },
    {
     "name": "stderr",
     "output_type": "stream",
     "text": [
      "100%|██████████████████████████████████████████████████████████████████████████████| 6552/6552 [02:17<00:00, 47.59it/s]\n"
     ]
    },
    {
     "name": "stdout",
     "output_type": "stream",
     "text": [
      "SLIM is fitted =================>\n"
     ]
    },
    {
     "name": "stderr",
     "output_type": "stream",
     "text": [
      "6it [00:32,  5.41s/it]\n"
     ]
    },
    {
     "name": "stdout",
     "output_type": "stream",
     "text": [
      "ElasticNet for item =========>\n"
     ]
    },
    {
     "name": "stderr",
     "output_type": "stream",
     "text": [
      "100%|██████████████████████████████████████████████████████████████████████████████| 6552/6552 [02:13<00:00, 49.26it/s]\n"
     ]
    },
    {
     "name": "stdout",
     "output_type": "stream",
     "text": [
      "SLIM is fitted =================>\n"
     ]
    },
    {
     "name": "stderr",
     "output_type": "stream",
     "text": [
      "6it [00:30,  5.09s/it]\n"
     ]
    },
    {
     "name": "stdout",
     "output_type": "stream",
     "text": [
      "ElasticNet for item =========>\n"
     ]
    },
    {
     "name": "stderr",
     "output_type": "stream",
     "text": [
      "100%|██████████████████████████████████████████████████████████████████████████████| 6552/6552 [02:18<00:00, 47.45it/s]\n"
     ]
    },
    {
     "name": "stdout",
     "output_type": "stream",
     "text": [
      "SLIM is fitted =================>\n"
     ]
    },
    {
     "name": "stderr",
     "output_type": "stream",
     "text": [
      "6it [00:47,  8.00s/it]\n"
     ]
    },
    {
     "name": "stdout",
     "output_type": "stream",
     "text": [
      "ElasticNet for item =========>\n"
     ]
    },
    {
     "name": "stderr",
     "output_type": "stream",
     "text": [
      "100%|██████████████████████████████████████████████████████████████████████████████| 6552/6552 [01:54<00:00, 57.41it/s]\n"
     ]
    },
    {
     "name": "stdout",
     "output_type": "stream",
     "text": [
      "SLIM is fitted =================>\n"
     ]
    },
    {
     "name": "stderr",
     "output_type": "stream",
     "text": [
      "6it [00:38,  6.46s/it]\n"
     ]
    },
    {
     "name": "stdout",
     "output_type": "stream",
     "text": [
      "ElasticNet for item =========>\n"
     ]
    },
    {
     "name": "stderr",
     "output_type": "stream",
     "text": [
      "100%|██████████████████████████████████████████████████████████████████████████████| 6552/6552 [01:56<00:00, 56.38it/s]\n"
     ]
    },
    {
     "name": "stdout",
     "output_type": "stream",
     "text": [
      "SLIM is fitted =================>\n"
     ]
    },
    {
     "name": "stderr",
     "output_type": "stream",
     "text": [
      "6it [00:36,  6.12s/it]\n"
     ]
    },
    {
     "name": "stdout",
     "output_type": "stream",
     "text": [
      "ElasticNet for item =========>\n"
     ]
    },
    {
     "name": "stderr",
     "output_type": "stream",
     "text": [
      "100%|██████████████████████████████████████████████████████████████████████████████| 6552/6552 [02:02<00:00, 53.62it/s]\n"
     ]
    },
    {
     "name": "stdout",
     "output_type": "stream",
     "text": [
      "SLIM is fitted =================>\n"
     ]
    },
    {
     "name": "stderr",
     "output_type": "stream",
     "text": [
      "6it [01:03, 10.60s/it]\n"
     ]
    },
    {
     "name": "stdout",
     "output_type": "stream",
     "text": [
      "ElasticNet for item =========>\n"
     ]
    },
    {
     "name": "stderr",
     "output_type": "stream",
     "text": [
      "100%|██████████████████████████████████████████████████████████████████████████████| 6552/6552 [01:54<00:00, 57.37it/s]\n"
     ]
    },
    {
     "name": "stdout",
     "output_type": "stream",
     "text": [
      "SLIM is fitted =================>\n"
     ]
    },
    {
     "name": "stderr",
     "output_type": "stream",
     "text": [
      "6it [00:31,  5.32s/it]\n"
     ]
    }
   ],
   "source": [
    "from tabulate import tabulate\n",
    "\n",
    "tab_recall['model'].append('ALS')\n",
    "tab_ndcg['model'].append('ALS')\n",
    "for metric, param, k in zip(gs_als.best_param, gs_als.best_param.values(), [1, 1, 5, 5, 10, 10, 50, 50]):\n",
    "    als = ALS(user='user', item='item', rating='rating',\n",
    "            n_factors=param['n_factors'], n_iterations=10,\n",
    "            reg=param['l2'], top_k=50,\n",
    "             binarize=False)\n",
    "    als_recommendations = als.fit_predict(train)\n",
    "    if 'recall' in metric:\n",
    "        tab_recall[metric].append(recall_k(als_recommendations, test, user='user', item='item', rating='scores', k=k))\n",
    "    else:\n",
    "        tab_ndcg[metric].append(ndcg_k(als_recommendations, test, user='user', item='item', rating='scores', k=k))\n",
    "\n",
    "tab_recall['model'].append('EASE')\n",
    "tab_ndcg['model'].append('EASE')\n",
    "\n",
    "for metric, param, k in zip(gs_ease.best_param, gs_ease.best_param.values(), [1, 1, 5, 5, 10, 10, 50, 50]):\n",
    "    ease = EASE(user='user', item='item', rating='rating',\n",
    "               l2_reg=param['l2'], top_k=50,\n",
    "             binarize=False, n_bathes=5)\n",
    "    ease_recommendations = ease.fit_predict(train)\n",
    "    if 'recall' in metric:\n",
    "        tab_recall[metric].append(recall_k(ease_recommendations, test, user='user', item='item', rating='scores', k=k))\n",
    "    else:\n",
    "        tab_ndcg[metric].append(ndcg_k(ease_recommendations, test, user='user', item='item', rating='scores', k=k))\n",
    "\n",
    "\n",
    "tab_recall['model'].append('SLIM')\n",
    "tab_ndcg['model'].append('SLIM')\n",
    "for metric, param, k in zip(gs_slim.best_param, gs_slim.best_param.values(), [1, 1, 5, 5, 10, 10, 50, 50]):\n",
    "    slim = SLIM(user='user', item='item', rating='rating',\n",
    "                l1_reg=param['l1'], l2_reg=param['l2'], top_k=50,\n",
    "             binarize=False, n_bathes=5)\n",
    "    slim_recommendations = slim.fit_predict(train)\n",
    "    if 'recall' in metric:\n",
    "        tab_recall[metric].append(recall_k(slim_recommendations, test, user='user', item='item', rating='scores', k=k))\n",
    "    else:\n",
    "        tab_ndcg[metric].append(ndcg_k(slim_recommendations, test, user='user', item='item', rating='scores', k=k))\n",
    "\n",
    "# ease = EASE(user='user', item='item', rating='rating', l2_reg=500, binarize=False, n_bathes=5, top_k=50)\n",
    "# slim = SLIM(user='user', item='item', rating='rating', \n",
    "#            l1_reg=1, l2_reg=200, top_k=50, binarize=False, n_bathes=5)\n",
    "# als = ALS(user='user', item='item', rating='rating', reg=5.0, binarize=False, top_k=50, n_factors=10,\n",
    "#          n_iterations=10)\n",
    "\n",
    "\n",
    "# als_recommendations = als.fit_predict(train)\n",
    "# ease_recommendations = ease.fit_predict(train)\n",
    "# slim_recommendations = slim.fit_predict(train)"
   ]
  },
  {
   "cell_type": "code",
   "execution_count": 31,
   "id": "aab00022-8176-49b0-b432-0418e461e26b",
   "metadata": {},
   "outputs": [],
   "source": [
    "pl.DataFrame(tab_recall).write_csv('okko_recall.csv')"
   ]
  },
  {
   "cell_type": "code",
   "execution_count": 30,
   "id": "47a0d3e4-5545-4909-ae6f-1cad1664a5bd",
   "metadata": {},
   "outputs": [],
   "source": [
    "pl.DataFrame(tab_ndcg).write_csv('okko_NDCG.csv')"
   ]
  },
  {
   "cell_type": "code",
   "execution_count": 6,
   "id": "6d6e5f4b-4aac-408a-b921-5dc8a438eefe",
   "metadata": {},
   "outputs": [],
   "source": [
    "for k in [1, 5, 10, 50]:\n",
    "    tab['recall@' + str(k)] = [\n",
    "        recall_k(slim_recommendations, test, user='user', item='item', rating='scores', k=k),\n",
    "    ]\n",
    "\n",
    "for k in [1, 5, 10, 50]:\n",
    "    tab['NDCG@' + str(k)] = [\n",
    "        ndcg_k(slim_recommendations, test, user='user', item='item', rating='scores', k=k),\n",
    "    ]"
   ]
  },
  {
   "cell_type": "code",
   "execution_count": 12,
   "id": "d2a79a9f-3eef-4b5f-af95-9071b5bb4e42",
   "metadata": {},
   "outputs": [],
   "source": [
    "slim_ndcg = pl.DataFrame(tab).drop(['recall@1', 'recall@5', 'recall@10', 'recall@50'])\n",
    "slim_recall = pl.DataFrame(tab).drop(['NDCG@1', 'NDCG@5', 'NDCG@10', 'NDCG@50'])"
   ]
  },
  {
   "cell_type": "code",
   "execution_count": 16,
   "id": "97cd0978-f8bd-4ce0-9736-ec0e57f13291",
   "metadata": {},
   "outputs": [],
   "source": [
    "slim_ndcg = slim_ndcg.rename({'NDCG@1': 'ndcg@1', 'NDCG@5': 'ndcg@5', 'NDCG@10': 'ndcg@10', 'NDCG@50': 'ndcg@50'})\n"
   ]
  },
  {
   "cell_type": "code",
   "execution_count": 1,
   "id": "8c9a421d-c8c7-4064-b932-bb7342942ef7",
   "metadata": {},
   "outputs": [],
   "source": [
    "tab = {'model': ['ALS', 'EASE', 'SLIM'],\n",
    " 'recall@1': [0.008756147784864984,\n",
    "  0.008957217435390748,\n",
    "  0.010040613106260718],\n",
    " 'ndcg@1': [0.014742421732648666, 0.01540500248467782, 0.015901938048699684],\n",
    " 'recall@5': [0.03877012913704067, 0.03985310778701212, 0.03973311839515687],\n",
    " 'ndcg@5': [0.07570192877792846, 0.07611079350653739, 0.08286818070970338],\n",
    " 'recall@10': [0.06909538824272463, 0.07146195295071026, 0.07274041113197523],\n",
    " 'ndcg@10': [0.11457811632757724, 0.11243208940517796, 0.1222132174807048],\n",
    " 'recall@50': [0.23137662033991724, 0.22889674126762752, 0.24079870668925968],\n",
    " 'ndcg@50': [0.15656222703012007, 0.16656222800053605, 0.17614718955867834]}"
   ]
  },
  {
   "cell_type": "code",
   "execution_count": 15,
   "id": "adbed974-2ee8-4891-bc7f-be7cd38dba0b",
   "metadata": {},
   "outputs": [
    {
     "data": {
      "text/html": [
       "<div><style>\n",
       ".dataframe > thead > tr,\n",
       ".dataframe > tbody > tr {\n",
       "  text-align: right;\n",
       "  white-space: pre-wrap;\n",
       "}\n",
       "</style>\n",
       "<small>shape: (1, 5)</small><table border=\"1\" class=\"dataframe\"><thead><tr><th>model</th><th>ndcg@1</th><th>ndcg@5</th><th>ndcg@10</th><th>ndcg@50</th></tr><tr><td>str</td><td>f64</td><td>f64</td><td>f64</td><td>f64</td></tr></thead><tbody><tr><td>&quot;EASE&quot;</td><td>0.023889</td><td>0.107953</td><td>0.149227</td><td>0.201077</td></tr></tbody></table></div>"
      ],
      "text/plain": [
       "shape: (1, 5)\n",
       "┌───────┬──────────┬──────────┬──────────┬──────────┐\n",
       "│ model ┆ ndcg@1   ┆ ndcg@5   ┆ ndcg@10  ┆ ndcg@50  │\n",
       "│ ---   ┆ ---      ┆ ---      ┆ ---      ┆ ---      │\n",
       "│ str   ┆ f64      ┆ f64      ┆ f64      ┆ f64      │\n",
       "╞═══════╪══════════╪══════════╪══════════╪══════════╡\n",
       "│ EASE  ┆ 0.023889 ┆ 0.107953 ┆ 0.149227 ┆ 0.201077 │\n",
       "└───────┴──────────┴──────────┴──────────┴──────────┘"
      ]
     },
     "execution_count": 15,
     "metadata": {},
     "output_type": "execute_result"
    }
   ],
   "source": [
    "ease_ndcg = pl.DataFrame(tab).drop(['recall@1', 'recall@5', 'recall@10', 'recall@50'])\n",
    "ease_ndcg"
   ]
  },
  {
   "cell_type": "code",
   "execution_count": 18,
   "id": "616bbb6d-c293-4724-9bb9-25d6a70acf73",
   "metadata": {},
   "outputs": [
    {
     "data": {
      "text/html": [
       "<div><style>\n",
       ".dataframe > thead > tr,\n",
       ".dataframe > tbody > tr {\n",
       "  text-align: right;\n",
       "  white-space: pre-wrap;\n",
       "}\n",
       "</style>\n",
       "<small>shape: (2, 5)</small><table border=\"1\" class=\"dataframe\"><thead><tr><th>model</th><th>recall@1</th><th>recall@5</th><th>recall@10</th><th>recall@50</th></tr><tr><td>str</td><td>f64</td><td>f64</td><td>f64</td><td>f64</td></tr></thead><tbody><tr><td>&quot;ALS&quot;</td><td>0.012149</td><td>0.0497</td><td>0.073809</td><td>0.257258</td></tr><tr><td>&quot;EASE&quot;</td><td>0.013455</td><td>0.05603</td><td>0.098791</td><td>0.309042</td></tr></tbody></table></div>"
      ],
      "text/plain": [
       "shape: (2, 5)\n",
       "┌───────┬──────────┬──────────┬───────────┬───────────┐\n",
       "│ model ┆ recall@1 ┆ recall@5 ┆ recall@10 ┆ recall@50 │\n",
       "│ ---   ┆ ---      ┆ ---      ┆ ---       ┆ ---       │\n",
       "│ str   ┆ f64      ┆ f64      ┆ f64       ┆ f64       │\n",
       "╞═══════╪══════════╪══════════╪═══════════╪═══════════╡\n",
       "│ ALS   ┆ 0.012149 ┆ 0.0497   ┆ 0.073809  ┆ 0.257258  │\n",
       "│ EASE  ┆ 0.013455 ┆ 0.05603  ┆ 0.098791  ┆ 0.309042  │\n",
       "└───────┴──────────┴──────────┴───────────┴───────────┘"
      ]
     },
     "execution_count": 18,
     "metadata": {},
     "output_type": "execute_result"
    }
   ],
   "source": [
    "results_ndcg = pl.read_csv('ml20M_NDCG.csv')\n",
    "results_recall = pl.read_csv('ml20M_recall.csv')\n",
    "results_ndcg\n",
    "results_recall"
   ]
  },
  {
   "cell_type": "code",
   "execution_count": 21,
   "id": "95e32565-1ef3-4bdd-97c2-cb7293d7a825",
   "metadata": {},
   "outputs": [],
   "source": [
    "pl.concat([results_recall, slim_recall]).write_csv('ml20M_recall.csv')"
   ]
  },
  {
   "cell_type": "code",
   "execution_count": 24,
   "id": "a52725e4-adc5-4564-9074-625f8234fe90",
   "metadata": {},
   "outputs": [],
   "source": [
    "pl.DataFrame(tab).drop(['recall@1', 'recall@5', 'recall@10', 'recall@50']).write_csv('ml20M_NDCG.csv')"
   ]
  },
  {
   "cell_type": "code",
   "execution_count": 4,
   "id": "15c363e8-d0cb-4a95-b26e-3fd69975cfab",
   "metadata": {},
   "outputs": [],
   "source": [
    "tab = {'model': ['SLIM']}\n",
    "\n",
    "for k in [1, 5, 10, 50]:\n",
    "    tab['recall@' + str(k)] = [\n",
    "        recall_k(slim_recommendations, test, user='user', item='item', rating='scores', k=k),\n",
    "    ]\n",
    "\n",
    "for k in [1, 5, 10, 50]:\n",
    "    tab['NDCG@' + str(k)] = [\n",
    "        ndcg_k(slim_recommendations, test, user='user', item='item', rating='scores', k=k),\n",
    "    ]"
   ]
  },
  {
   "cell_type": "code",
   "execution_count": 5,
   "id": "82bd6324-5a10-4fc9-98f0-8ac29a93bf63",
   "metadata": {},
   "outputs": [
    {
     "name": "stdout",
     "output_type": "stream",
     "text": [
      "| model   |  recall@1  |  recall@5  |  recall@10  |  recall@50  |  NDCG@1   |  NDCG@5  |  NDCG@10  |  NDCG@50  |\n",
      "|---------|------------|------------|-------------|-------------|-----------|----------|-----------|-----------|\n",
      "| SLIM    | 0.0134948  | 0.0526842  |  0.0899522  |  0.258602   | 0.0236719 | 0.103128 | 0.141593  | 0.189284  |\n"
     ]
    }
   ],
   "source": [
    "print(tabulate(tab, headers=\"keys\", tablefmt='github', numalign='center'))"
   ]
  },
  {
   "cell_type": "code",
   "execution_count": 13,
   "id": "58465327-0003-48f8-bc92-6b727e94dee7",
   "metadata": {},
   "outputs": [
    {
     "data": {
      "text/html": [
       "<div><style>\n",
       ".dataframe > thead > tr,\n",
       ".dataframe > tbody > tr {\n",
       "  text-align: right;\n",
       "  white-space: pre-wrap;\n",
       "}\n",
       "</style>\n",
       "<small>shape: (557_680, 3)</small><table border=\"1\" class=\"dataframe\"><thead><tr><th>scores</th><th>user</th><th>item</th></tr><tr><td>f64</td><td>i64</td><td>i64</td></tr></thead><tbody><tr><td>0.73463</td><td>1</td><td>747</td></tr><tr><td>0.625382</td><td>1</td><td>3336</td></tr><tr><td>0.432529</td><td>1</td><td>7774</td></tr><tr><td>0.399955</td><td>1</td><td>4120</td></tr><tr><td>0.356062</td><td>1</td><td>7119</td></tr><tr><td>&hellip;</td><td>&hellip;</td><td>&hellip;</td></tr><tr><td>0.706676</td><td>593478</td><td>3239</td></tr><tr><td>0.683939</td><td>593478</td><td>10163</td></tr><tr><td>0.676355</td><td>593478</td><td>5979</td></tr><tr><td>0.619931</td><td>593478</td><td>4697</td></tr><tr><td>0.603371</td><td>593478</td><td>7513</td></tr></tbody></table></div>"
      ],
      "text/plain": [
       "shape: (557_680, 3)\n",
       "┌──────────┬────────┬───────┐\n",
       "│ scores   ┆ user   ┆ item  │\n",
       "│ ---      ┆ ---    ┆ ---   │\n",
       "│ f64      ┆ i64    ┆ i64   │\n",
       "╞══════════╪════════╪═══════╡\n",
       "│ 0.73463  ┆ 1      ┆ 747   │\n",
       "│ 0.625382 ┆ 1      ┆ 3336  │\n",
       "│ 0.432529 ┆ 1      ┆ 7774  │\n",
       "│ 0.399955 ┆ 1      ┆ 4120  │\n",
       "│ 0.356062 ┆ 1      ┆ 7119  │\n",
       "│ …        ┆ …      ┆ …     │\n",
       "│ 0.706676 ┆ 593478 ┆ 3239  │\n",
       "│ 0.683939 ┆ 593478 ┆ 10163 │\n",
       "│ 0.676355 ┆ 593478 ┆ 5979  │\n",
       "│ 0.619931 ┆ 593478 ┆ 4697  │\n",
       "│ 0.603371 ┆ 593478 ┆ 7513  │\n",
       "└──────────┴────────┴───────┘"
      ]
     },
     "execution_count": 13,
     "metadata": {},
     "output_type": "execute_result"
    }
   ],
   "source": [
    "ease_recommendations"
   ]
  },
  {
   "cell_type": "code",
   "execution_count": 17,
   "id": "dd92d060-815f-4739-b457-818e6a7547a1",
   "metadata": {},
   "outputs": [],
   "source": [
    "tab = {'model': ['ALS', 'EASE', 'SLIM']}\n",
    "\n",
    "for k in [1, 5, 10, 50]:\n",
    "    tab['recall@' + str(k)] = [\n",
    "        recall_k(als_recommendations, test, user='user', item='item', rating='scores', k=k),\n",
    "        recall_k(ease_recommendations, test, user='user', item='item', rating='scores', k=k),\n",
    "        recall_k(slim_recommendations, test, user='user', item='item', rating='scores', k=k)\n",
    "    ]\n",
    "\n",
    "for k in [1, 5, 10, 50]:\n",
    "    tab['NDCG@' + str(k)] = [\n",
    "        ndcg_k(als_recommendations, test, user='user', item='item', rating='scores', k=k),\n",
    "        ndcg_k(ease_recommendations, test, user='user', item='item', rating='scores', k=k),\n",
    "        ndcg_k(slim_recommendations, test, user='user', item='item', rating='scores', k=k)\n",
    "    ]\n",
    "    "
   ]
  },
  {
   "cell_type": "code",
   "execution_count": 18,
   "id": "acf7fd4d-678e-4236-b4f5-c30374b3cfa0",
   "metadata": {},
   "outputs": [
    {
     "name": "stdout",
     "output_type": "stream",
     "text": [
      "| model   |  recall@1  |  recall@5  |  recall@10  |  recall@50  |  NDCG@1   |  NDCG@5   |  NDCG@10  |  NDCG@50  |\n",
      "|---------|------------|------------|-------------|-------------|-----------|-----------|-----------|-----------|\n",
      "| ALS     | 0.0195681  | 0.0646088  |  0.103384   |   0.26811   | 0.0218046 | 0.039815  | 0.0412757 | 0.041681  |\n",
      "| EASE    | 0.0281704  | 0.0815576  |  0.118817   |  0.247875   | 0.0323483 | 0.0523561 | 0.0537475 | 0.0542302 |\n",
      "| SLIM    | 0.0276059  | 0.0856394  |  0.125629   |  0.280036   | 0.0314159 | 0.0534034 | 0.054855  | 0.0552678 |\n"
     ]
    }
   ],
   "source": [
    "print(tabulate(tab, headers=\"keys\", tablefmt='github', numalign='center'))"
   ]
  },
  {
   "cell_type": "code",
   "execution_count": null,
   "id": "65aa313b-43b9-4714-91e9-e5cf4d45ded0",
   "metadata": {},
   "outputs": [],
   "source": []
  }
 ],
 "metadata": {
  "kernelspec": {
   "display_name": "Python 3 (ipykernel)",
   "language": "python",
   "name": "python3"
  },
  "language_info": {
   "codemirror_mode": {
    "name": "ipython",
    "version": 3
   },
   "file_extension": ".py",
   "mimetype": "text/x-python",
   "name": "python",
   "nbconvert_exporter": "python",
   "pygments_lexer": "ipython3",
   "version": "3.9.12"
  }
 },
 "nbformat": 4,
 "nbformat_minor": 5
}
