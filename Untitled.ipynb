{
 "cells": [
  {
   "cell_type": "code",
   "execution_count": 1,
   "id": "1e5eeeab-d03f-4119-ab8e-2d33c2c0541e",
   "metadata": {
    "tags": []
   },
   "outputs": [],
   "source": [
    "import polars as pl\n",
    "import numpy as np\n",
    "import pandas as pd\n",
    "from preprocessing_dataset import dataset_split, OrdinalEncoder, CSRConverter, binarize_rating\n",
    "from models import ALS, EASE, SLIM\n",
    "from metrics import recall_k, ndcg_k"
   ]
  },
  {
   "cell_type": "code",
   "execution_count": 3,
   "id": "85deb3d6-c3ca-467f-b8f0-3f2160069e8d",
   "metadata": {},
   "outputs": [],
   "source": [
    "ml_dataset = pl.from_pandas(pd.read_table('datasets/ml-1m/ratings.dat', sep='::', encoding = \"latin1\", engine = \"python\", \n",
    "              names = ['user', 'item', 'rating', 'timestamp']))"
   ]
  },
  {
   "cell_type": "code",
   "execution_count": 12,
   "id": "a0008a65-af82-4651-ab09-f91c644d0ef9",
   "metadata": {},
   "outputs": [
    {
     "data": {
      "text/html": [
       "<div><style>\n",
       ".dataframe > thead > tr,\n",
       ".dataframe > tbody > tr {\n",
       "  text-align: right;\n",
       "  white-space: pre-wrap;\n",
       "}\n",
       "</style>\n",
       "<small>shape: (146_995, 5)</small><table border=\"1\" class=\"dataframe\"><thead><tr><th>user</th><th>item</th><th>rating</th><th>timestamp</th><th>len</th></tr><tr><td>str</td><td>list[str]</td><td>list[f64]</td><td>list[i64]</td><td>u32</td></tr></thead><tbody><tr><td>&quot;A1YMM5JZYWTI82…</td><td>[&quot;B00008KA7P&quot;, &quot;B00016XJ4M&quot;, … &quot;B00FEMQUKS&quot;]</td><td>[2.0, 5.0, … 1.0]</td><td>[1334707200, 1392163200, … 1398643200]</td><td>13</td></tr><tr><td>&quot;A3231JADAQOIFM…</td><td>[&quot;B000RO0I9M&quot;, &quot;B000VDAFHE&quot;, … &quot;B00BMO02PG&quot;]</td><td>[1.0, 1.0, … 2.0]</td><td>[1386460800, 1392854400, … 1386460800]</td><td>4</td></tr><tr><td>&quot;AYU3RUEUKJK07&quot;</td><td>[&quot;B000XVEZFC&quot;, &quot;B002LFNQT4&quot;, &quot;B00853EQUY&quot;]</td><td>[5.0, 3.0, 5.0]</td><td>[1356912000, 1356912000, 1356912000]</td><td>3</td></tr><tr><td>&quot;A1U2K1NR0WSYQ2…</td><td>[&quot;B00014DMQE&quot;, &quot;B000B641EE&quot;, … &quot;B00414X6F2&quot;]</td><td>[5.0, 3.0, … 4.0]</td><td>[1393718400, 1291334400, … 1291334400]</td><td>4</td></tr><tr><td>&quot;A1TMI8ATYGJ4UI…</td><td>[&quot;B0000636YL&quot;, &quot;B0012XO2W6&quot;, &quot;B004A84HHA&quot;]</td><td>[5.0, 5.0, 5.0]</td><td>[1320364800, 1306022400, 1320364800]</td><td>3</td></tr><tr><td>&hellip;</td><td>&hellip;</td><td>&hellip;</td><td>&hellip;</td><td>&hellip;</td></tr><tr><td>&quot;A2GR8DKPGFS0FX…</td><td>[&quot;B00016XJ4M&quot;, &quot;B00025WZOW&quot;, … &quot;B00ACB6CY0&quot;]</td><td>[5.0, 5.0, … 5.0]</td><td>[1400544000, 1360627200, … 1381190400]</td><td>9</td></tr><tr><td>&quot;A1RV29ZI6Z1WV2…</td><td>[&quot;B000FQN1SC&quot;, &quot;B000KFX10G&quot;, … &quot;B007XA49O8&quot;]</td><td>[3.0, 5.0, … 5.0]</td><td>[1321574400, 1396137600, … 1396137600]</td><td>12</td></tr><tr><td>&quot;A3SB9RQQQBDL37…</td><td>[&quot;B00117CH5M&quot;, &quot;B002XITLL6&quot;, &quot;B004ETD92O&quot;]</td><td>[5.0, 2.0, 5.0]</td><td>[1362528000, 1394582400, 1399939200]</td><td>3</td></tr><tr><td>&quot;A3QJQQZTKFV7BJ…</td><td>[&quot;B00008MOQE&quot;, &quot;B001CT09W2&quot;, … &quot;B00DX0EGZE&quot;]</td><td>[4.0, 5.0, … 5.0]</td><td>[1361577600, 1395014400, … 1380499200]</td><td>7</td></tr><tr><td>&quot;AJDUF63Y0SI17&quot;</td><td>[&quot;B0029F9FZ0&quot;, &quot;B003KDJ5KK&quot;, … &quot;B00961YRHG&quot;]</td><td>[5.0, 5.0, … 5.0]</td><td>[1342742400, 1301961600, … 1402099200]</td><td>4</td></tr></tbody></table></div>"
      ],
      "text/plain": [
       "shape: (146_995, 5)\n",
       "┌────────────────┬───────────────────────────────────┬───────────────────┬───────────────────────────────────┬─────┐\n",
       "│ user           ┆ item                              ┆ rating            ┆ timestamp                         ┆ len │\n",
       "│ ---            ┆ ---                               ┆ ---               ┆ ---                               ┆ --- │\n",
       "│ str            ┆ list[str]                         ┆ list[f64]         ┆ list[i64]                         ┆ u32 │\n",
       "╞════════════════╪═══════════════════════════════════╪═══════════════════╪═══════════════════════════════════╪═════╡\n",
       "│ A1YMM5JZYWTI82 ┆ [\"B00008KA7P\", \"B00016XJ4M\", … \"… ┆ [2.0, 5.0, … 1.0] ┆ [1334707200, 1392163200, … 13986… ┆ 13  │\n",
       "│ A3231JADAQOIFM ┆ [\"B000RO0I9M\", \"B000VDAFHE\", … \"… ┆ [1.0, 1.0, … 2.0] ┆ [1386460800, 1392854400, … 13864… ┆ 4   │\n",
       "│ AYU3RUEUKJK07  ┆ [\"B000XVEZFC\", \"B002LFNQT4\", \"B0… ┆ [5.0, 3.0, 5.0]   ┆ [1356912000, 1356912000, 1356912… ┆ 3   │\n",
       "│ A1U2K1NR0WSYQ2 ┆ [\"B00014DMQE\", \"B000B641EE\", … \"… ┆ [5.0, 3.0, … 4.0] ┆ [1393718400, 1291334400, … 12913… ┆ 4   │\n",
       "│ A1TMI8ATYGJ4UI ┆ [\"B0000636YL\", \"B0012XO2W6\", \"B0… ┆ [5.0, 5.0, 5.0]   ┆ [1320364800, 1306022400, 1320364… ┆ 3   │\n",
       "│ …              ┆ …                                 ┆ …                 ┆ …                                 ┆ …   │\n",
       "│ A2GR8DKPGFS0FX ┆ [\"B00016XJ4M\", \"B00025WZOW\", … \"… ┆ [5.0, 5.0, … 5.0] ┆ [1400544000, 1360627200, … 13811… ┆ 9   │\n",
       "│ A1RV29ZI6Z1WV2 ┆ [\"B000FQN1SC\", \"B000KFX10G\", … \"… ┆ [3.0, 5.0, … 5.0] ┆ [1321574400, 1396137600, … 13961… ┆ 12  │\n",
       "│ A3SB9RQQQBDL37 ┆ [\"B00117CH5M\", \"B002XITLL6\", \"B0… ┆ [5.0, 2.0, 5.0]   ┆ [1362528000, 1394582400, 1399939… ┆ 3   │\n",
       "│ A3QJQQZTKFV7BJ ┆ [\"B00008MOQE\", \"B001CT09W2\", … \"… ┆ [4.0, 5.0, … 5.0] ┆ [1361577600, 1395014400, … 13804… ┆ 7   │\n",
       "│ AJDUF63Y0SI17  ┆ [\"B0029F9FZ0\", \"B003KDJ5KK\", … \"… ┆ [5.0, 5.0, … 5.0] ┆ [1342742400, 1301961600, … 14020… ┆ 4   │\n",
       "└────────────────┴───────────────────────────────────┴───────────────────┴───────────────────────────────────┴─────┘"
      ]
     },
     "execution_count": 12,
     "metadata": {},
     "output_type": "execute_result"
    }
   ],
   "source": [
    "beauty = pl.read_csv('datasets/Amazon_beauty/ratings_Beauty.csv', has_header=False).rename({'column_1': 'user',\n",
    "                                                                                           'column_2': 'item',\n",
    "                                                                                           'column_3': 'rating',\n",
    "                                                                                           'column_4': 'timestamp'})\n",
    "beauty.group_by('user').agg(['item', 'rating', 'timestamp']).with_columns(len=pl.col('item').list.len()).filter(pl.col('len') > 2)"
   ]
  },
  {
   "cell_type": "code",
   "execution_count": 4,
   "id": "2090729a-41b3-44fe-a27f-71505ebc31dd",
   "metadata": {},
   "outputs": [
    {
     "data": {
      "text/html": [
       "<div><style>\n",
       ".dataframe > thead > tr,\n",
       ".dataframe > tbody > tr {\n",
       "  text-align: right;\n",
       "  white-space: pre-wrap;\n",
       "}\n",
       "</style>\n",
       "<small>shape: (1_000_209, 4)</small><table border=\"1\" class=\"dataframe\"><thead><tr><th>user</th><th>item</th><th>rating</th><th>timestamp</th></tr><tr><td>i64</td><td>i64</td><td>i64</td><td>i64</td></tr></thead><tbody><tr><td>1</td><td>1193</td><td>5</td><td>978300760</td></tr><tr><td>1</td><td>661</td><td>3</td><td>978302109</td></tr><tr><td>1</td><td>914</td><td>3</td><td>978301968</td></tr><tr><td>1</td><td>3408</td><td>4</td><td>978300275</td></tr><tr><td>1</td><td>2355</td><td>5</td><td>978824291</td></tr><tr><td>&hellip;</td><td>&hellip;</td><td>&hellip;</td><td>&hellip;</td></tr><tr><td>6040</td><td>1091</td><td>1</td><td>956716541</td></tr><tr><td>6040</td><td>1094</td><td>5</td><td>956704887</td></tr><tr><td>6040</td><td>562</td><td>5</td><td>956704746</td></tr><tr><td>6040</td><td>1096</td><td>4</td><td>956715648</td></tr><tr><td>6040</td><td>1097</td><td>4</td><td>956715569</td></tr></tbody></table></div>"
      ],
      "text/plain": [
       "shape: (1_000_209, 4)\n",
       "┌──────┬──────┬────────┬───────────┐\n",
       "│ user ┆ item ┆ rating ┆ timestamp │\n",
       "│ ---  ┆ ---  ┆ ---    ┆ ---       │\n",
       "│ i64  ┆ i64  ┆ i64    ┆ i64       │\n",
       "╞══════╪══════╪════════╪═══════════╡\n",
       "│ 1    ┆ 1193 ┆ 5      ┆ 978300760 │\n",
       "│ 1    ┆ 661  ┆ 3      ┆ 978302109 │\n",
       "│ 1    ┆ 914  ┆ 3      ┆ 978301968 │\n",
       "│ 1    ┆ 3408 ┆ 4      ┆ 978300275 │\n",
       "│ 1    ┆ 2355 ┆ 5      ┆ 978824291 │\n",
       "│ …    ┆ …    ┆ …      ┆ …         │\n",
       "│ 6040 ┆ 1091 ┆ 1      ┆ 956716541 │\n",
       "│ 6040 ┆ 1094 ┆ 5      ┆ 956704887 │\n",
       "│ 6040 ┆ 562  ┆ 5      ┆ 956704746 │\n",
       "│ 6040 ┆ 1096 ┆ 4      ┆ 956715648 │\n",
       "│ 6040 ┆ 1097 ┆ 4      ┆ 956715569 │\n",
       "└──────┴──────┴────────┴───────────┘"
      ]
     },
     "execution_count": 4,
     "metadata": {},
     "output_type": "execute_result"
    }
   ],
   "source": [
    "ml_dataset"
   ]
  },
  {
   "cell_type": "code",
   "execution_count": 8,
   "id": "ddd748e6-c2a7-4c9d-8ae4-3271122b18bf",
   "metadata": {},
   "outputs": [
    {
     "data": {
      "text/html": [
       "<div><style>\n",
       ".dataframe > thead > tr,\n",
       ".dataframe > tbody > tr {\n",
       "  text-align: right;\n",
       "  white-space: pre-wrap;\n",
       "}\n",
       "</style>\n",
       "<small>shape: (575_280, 4)</small><table border=\"1\" class=\"dataframe\"><thead><tr><th>user</th><th>item</th><th>rating</th><th>timestamp</th></tr><tr><td>i64</td><td>i64</td><td>i64</td><td>i64</td></tr></thead><tbody><tr><td>5520</td><td>588</td><td>4</td><td>960124272</td></tr><tr><td>5520</td><td>590</td><td>5</td><td>960598162</td></tr><tr><td>5520</td><td>593</td><td>5</td><td>959738212</td></tr><tr><td>5520</td><td>2070</td><td>5</td><td>959791624</td></tr><tr><td>5520</td><td>2083</td><td>4</td><td>960124402</td></tr><tr><td>&hellip;</td><td>&hellip;</td><td>&hellip;</td><td>&hellip;</td></tr><tr><td>1045</td><td>342</td><td>5</td><td>974966194</td></tr><tr><td>1045</td><td>34</td><td>4</td><td>974966139</td></tr><tr><td>1045</td><td>357</td><td>4</td><td>974966085</td></tr><tr><td>1045</td><td>39</td><td>4</td><td>974966108</td></tr><tr><td>1045</td><td>500</td><td>4</td><td>974966108</td></tr></tbody></table></div>"
      ],
      "text/plain": [
       "shape: (575_280, 4)\n",
       "┌──────┬──────┬────────┬───────────┐\n",
       "│ user ┆ item ┆ rating ┆ timestamp │\n",
       "│ ---  ┆ ---  ┆ ---    ┆ ---       │\n",
       "│ i64  ┆ i64  ┆ i64    ┆ i64       │\n",
       "╞══════╪══════╪════════╪═══════════╡\n",
       "│ 5520 ┆ 588  ┆ 4      ┆ 960124272 │\n",
       "│ 5520 ┆ 590  ┆ 5      ┆ 960598162 │\n",
       "│ 5520 ┆ 593  ┆ 5      ┆ 959738212 │\n",
       "│ 5520 ┆ 2070 ┆ 5      ┆ 959791624 │\n",
       "│ 5520 ┆ 2083 ┆ 4      ┆ 960124402 │\n",
       "│ …    ┆ …    ┆ …      ┆ …         │\n",
       "│ 1045 ┆ 342  ┆ 5      ┆ 974966194 │\n",
       "│ 1045 ┆ 34   ┆ 4      ┆ 974966139 │\n",
       "│ 1045 ┆ 357  ┆ 4      ┆ 974966085 │\n",
       "│ 1045 ┆ 39   ┆ 4      ┆ 974966108 │\n",
       "│ 1045 ┆ 500  ┆ 4      ┆ 974966108 │\n",
       "└──────┴──────┴────────┴───────────┘"
      ]
     },
     "execution_count": 8,
     "metadata": {},
     "output_type": "execute_result"
    }
   ],
   "source": [
    "dataset = ml_dataset.filter(pl.col('rating') > 3.5).group_by('user').agg(['item', 'rating', 'timestamp'])\n",
    "dataset = dataset.with_columns(len=pl.col('item').list.len()).filter(pl.col('len') > 1).drop('len')\n",
    "dataset = dataset.explode(['item', 'rating', 'timestamp'])\n",
    "dataset"
   ]
  },
  {
   "cell_type": "code",
   "execution_count": 2,
   "id": "de12f9bb-1b1f-49d6-803f-b907200e6aa3",
   "metadata": {},
   "outputs": [],
   "source": [
    "def load_ml_dataset_1m(min_value: float=3.5) -> pl.DataFrame:\n",
    "    dataset = pl.from_pandas(pd.read_table('datasets/ml-1m/ratings.dat', sep='::', encoding = \"latin1\", engine = \"python\", \n",
    "              names = ['user', 'item', 'rating', 'timestamp']))\n",
    "    dataset = dataset.filter(pl.col('rating') > min_value).group_by('user').agg(['item', 'rating', 'timestamp'])\n",
    "    dataset = dataset.with_columns(len=pl.col('item').list.len()).filter(pl.col('len') > 1).drop('len')\n",
    "    dataset = dataset.explode(['item', 'rating', 'timestamp'])\n",
    "    return dataset"
   ]
  },
  {
   "cell_type": "code",
   "execution_count": 10,
   "id": "8ae766d1-4895-4e7f-bd4a-dd08b098fe0c",
   "metadata": {},
   "outputs": [],
   "source": [
    "def load_ml_dataset_20m(min_value: float=3.5) -> pl.DataFrame:\n",
    "    dataset = pl.read_csv('datasets/ml-20m/ratings.csv')\n",
    "    dataset = dataset.rename({'userId': 'user', 'movieId': 'item'})\n",
    "    dataset = dataset.filter(pl.col('rating') > min_value).group_by('user').agg(['item', 'rating', 'timestamp'])\n",
    "    dataset = dataset.with_columns(len=pl.col('item').list.len()).filter(pl.col('len') > 1).drop('len')\n",
    "    dataset = dataset.explode(['item', 'rating', 'timestamp'])\n",
    "    return dataset"
   ]
  },
  {
   "cell_type": "code",
   "execution_count": 13,
   "id": "8d48fee5-f66b-42fd-927b-162540241f67",
   "metadata": {},
   "outputs": [],
   "source": [
    "def load_beauty_dataset(min_value: float=3.5) -> pl.DataFrame:\n",
    "    dataset = pl.read_csv('datasets/Amazon_beauty/ratings_Beauty.csv', has_header=False).rename({'column_1': 'user',\n",
    "                                                                                           'column_2': 'item',\n",
    "                                                                                           'column_3': 'rating',\n",
    "                                                                                           'column_4': 'timestamp'})\n",
    "    dataset = dataset.filter(pl.col('rating') > min_value).group_by('user').agg(['item', 'rating', 'timestamp'])\n",
    "    dataset = dataset.with_columns(len=pl.col('item').list.len()).filter(pl.col('len') > 1).drop('len')\n",
    "    dataset = dataset.explode(['item', 'rating', 'timestamp'])\n",
    "    return dataset"
   ]
  },
  {
   "cell_type": "code",
   "execution_count": 16,
   "id": "86321e16-941a-4394-993d-1ab6786e2885",
   "metadata": {},
   "outputs": [],
   "source": [
    "beauty = load_beauty_dataset()"
   ]
  },
  {
   "cell_type": "code",
   "execution_count": 19,
   "id": "108d8a0f-7e61-47d8-a22c-4d1fd57a9e06",
   "metadata": {},
   "outputs": [
    {
     "data": {
      "text/html": [
       "<div><style>\n",
       ".dataframe > thead > tr,\n",
       ".dataframe > tbody > tr {\n",
       "  text-align: right;\n",
       "  white-space: pre-wrap;\n",
       "}\n",
       "</style>\n",
       "<small>shape: (167_806, 1)</small><table border=\"1\" class=\"dataframe\"><thead><tr><th>item</th></tr><tr><td>str</td></tr></thead><tbody><tr><td>&quot;B006CVAG6Y&quot;</td></tr><tr><td>&quot;B007480TQ6&quot;</td></tr><tr><td>&quot;B003Q8T0UE&quot;</td></tr><tr><td>&quot;B000CMFU1A&quot;</td></tr><tr><td>&quot;B004QI3BBC&quot;</td></tr><tr><td>&hellip;</td></tr><tr><td>&quot;B001A4H756&quot;</td></tr><tr><td>&quot;B00A9Z4V1A&quot;</td></tr><tr><td>&quot;B004JKUDM2&quot;</td></tr><tr><td>&quot;B000JVY52Y&quot;</td></tr><tr><td>&quot;B00BQKQ22S&quot;</td></tr></tbody></table></div>"
      ],
      "text/plain": [
       "shape: (167_806, 1)\n",
       "┌────────────┐\n",
       "│ item       │\n",
       "│ ---        │\n",
       "│ str        │\n",
       "╞════════════╡\n",
       "│ B006CVAG6Y │\n",
       "│ B007480TQ6 │\n",
       "│ B003Q8T0UE │\n",
       "│ B000CMFU1A │\n",
       "│ B004QI3BBC │\n",
       "│ …          │\n",
       "│ B001A4H756 │\n",
       "│ B00A9Z4V1A │\n",
       "│ B004JKUDM2 │\n",
       "│ B000JVY52Y │\n",
       "│ B00BQKQ22S │\n",
       "└────────────┘"
      ]
     },
     "execution_count": 19,
     "metadata": {},
     "output_type": "execute_result"
    }
   ],
   "source": [
    "beauty.select(pl.col('item').unique())"
   ]
  },
  {
   "cell_type": "code",
   "execution_count": 3,
   "id": "e0d74190-b3c8-4d97-8def-f930d27b29f8",
   "metadata": {},
   "outputs": [
    {
     "data": {
      "text/html": [
       "<div><style>\n",
       ".dataframe > thead > tr,\n",
       ".dataframe > tbody > tr {\n",
       "  text-align: right;\n",
       "  white-space: pre-wrap;\n",
       "}\n",
       "</style>\n",
       "<small>shape: (575_280, 4)</small><table border=\"1\" class=\"dataframe\"><thead><tr><th>user</th><th>item</th><th>rating</th><th>timestamp</th></tr><tr><td>i64</td><td>i64</td><td>i64</td><td>i64</td></tr></thead><tbody><tr><td>3969</td><td>2997</td><td>4</td><td>965660249</td></tr><tr><td>3969</td><td>3007</td><td>4</td><td>965660249</td></tr><tr><td>3969</td><td>2401</td><td>4</td><td>965660167</td></tr><tr><td>3969</td><td>2858</td><td>5</td><td>965660249</td></tr><tr><td>3969</td><td>480</td><td>4</td><td>965660127</td></tr><tr><td>&hellip;</td><td>&hellip;</td><td>&hellip;</td><td>&hellip;</td></tr><tr><td>5106</td><td>1020</td><td>5</td><td>962335480</td></tr><tr><td>5106</td><td>2770</td><td>4</td><td>962335232</td></tr><tr><td>5106</td><td>531</td><td>5</td><td>962334855</td></tr><tr><td>5106</td><td>539</td><td>4</td><td>962335497</td></tr><tr><td>5106</td><td>2012</td><td>4</td><td>962334405</td></tr></tbody></table></div>"
      ],
      "text/plain": [
       "shape: (575_280, 4)\n",
       "┌──────┬──────┬────────┬───────────┐\n",
       "│ user ┆ item ┆ rating ┆ timestamp │\n",
       "│ ---  ┆ ---  ┆ ---    ┆ ---       │\n",
       "│ i64  ┆ i64  ┆ i64    ┆ i64       │\n",
       "╞══════╪══════╪════════╪═══════════╡\n",
       "│ 3969 ┆ 2997 ┆ 4      ┆ 965660249 │\n",
       "│ 3969 ┆ 3007 ┆ 4      ┆ 965660249 │\n",
       "│ 3969 ┆ 2401 ┆ 4      ┆ 965660167 │\n",
       "│ 3969 ┆ 2858 ┆ 5      ┆ 965660249 │\n",
       "│ 3969 ┆ 480  ┆ 4      ┆ 965660127 │\n",
       "│ …    ┆ …    ┆ …      ┆ …         │\n",
       "│ 5106 ┆ 1020 ┆ 5      ┆ 962335480 │\n",
       "│ 5106 ┆ 2770 ┆ 4      ┆ 962335232 │\n",
       "│ 5106 ┆ 531  ┆ 5      ┆ 962334855 │\n",
       "│ 5106 ┆ 539  ┆ 4      ┆ 962335497 │\n",
       "│ 5106 ┆ 2012 ┆ 4      ┆ 962334405 │\n",
       "└──────┴──────┴────────┴───────────┘"
      ]
     },
     "execution_count": 3,
     "metadata": {},
     "output_type": "execute_result"
    }
   ],
   "source": [
    "ml_dataset = load_ml_dataset_1m()\n",
    "ml_dataset"
   ]
  },
  {
   "cell_type": "code",
   "execution_count": 2,
   "id": "3d7a6f87-c161-4e40-9b27-efd921d8512a",
   "metadata": {},
   "outputs": [],
   "source": [
    "ml_dataset_20m = pl.read_csv('datasets/ml-20m/ratings.csv')\n",
    "ml_dataset_20m = ml_dataset_20m.rename({'userId': 'user', 'movieId': 'item'})"
   ]
  },
  {
   "cell_type": "code",
   "execution_count": 11,
   "id": "586f9c8f-5af8-4d2b-8fe9-4ca7e103fa82",
   "metadata": {},
   "outputs": [],
   "source": [
    "ml_dataset_20m = load_ml_dataset_20m()"
   ]
  },
  {
   "cell_type": "code",
   "execution_count": 16,
   "id": "6f655bfa-0472-46a4-8c21-bc083f13e3be",
   "metadata": {},
   "outputs": [
    {
     "data": {
      "text/html": [
       "<div><style>\n",
       ".dataframe > thead > tr,\n",
       ".dataframe > tbody > tr {\n",
       "  text-align: right;\n",
       "  white-space: pre-wrap;\n",
       "}\n",
       "</style>\n",
       "<small>shape: (20_720, 1)</small><table border=\"1\" class=\"dataframe\"><thead><tr><th>item</th></tr><tr><td>i64</td></tr></thead><tbody><tr><td>1</td></tr><tr><td>2</td></tr><tr><td>3</td></tr><tr><td>4</td></tr><tr><td>5</td></tr><tr><td>&hellip;</td></tr><tr><td>131250</td></tr><tr><td>131252</td></tr><tr><td>131254</td></tr><tr><td>131256</td></tr><tr><td>131262</td></tr></tbody></table></div>"
      ],
      "text/plain": [
       "shape: (20_720, 1)\n",
       "┌────────┐\n",
       "│ item   │\n",
       "│ ---    │\n",
       "│ i64    │\n",
       "╞════════╡\n",
       "│ 1      │\n",
       "│ 2      │\n",
       "│ 3      │\n",
       "│ 4      │\n",
       "│ 5      │\n",
       "│ …      │\n",
       "│ 131250 │\n",
       "│ 131252 │\n",
       "│ 131254 │\n",
       "│ 131256 │\n",
       "│ 131262 │\n",
       "└────────┘"
      ]
     },
     "execution_count": 16,
     "metadata": {},
     "output_type": "execute_result"
    }
   ],
   "source": [
    "ml_dataset_20m.select(pl.col('item').unique())"
   ]
  },
  {
   "cell_type": "code",
   "execution_count": 20,
   "id": "1a04ed00-200e-4617-9a41-974d8127e07c",
   "metadata": {},
   "outputs": [],
   "source": [
    "train, test = dataset_split(beauty, test_size=0.2)"
   ]
  },
  {
   "cell_type": "code",
   "execution_count": 21,
   "id": "2208d695-ff8c-42ba-b92f-ba4ecd881fe2",
   "metadata": {},
   "outputs": [
    {
     "name": "stderr",
     "output_type": "stream",
     "text": [
      "D:\\Anaconda\\lib\\site-packages\\implicit\\cpu\\als.py:95: RuntimeWarning: OpenBLAS is configured to use 8 threads. It is highly recommended to disable its internal threadpool by setting the environment variable 'OPENBLAS_NUM_THREADS=1' or by calling 'threadpoolctl.threadpool_limits(1, \"blas\")'. Having OpenBLAS use a threadpool can lead to severe performance issues here.\n",
      "  check_blas_config()\n",
      "D:\\Anaconda\\lib\\site-packages\\implicit\\cpu\\als.py:95: RuntimeWarning: Intel MKL BLAS is configured to use 4 threads. It is highly recommended to disable its internal threadpool by setting the environment variable 'MKL_NUM_THREADS=1' or by callng 'threadpoolctl.threadpool_limits(1, \"blas\")'. Having MKL use a threadpool can lead to severe performance issues\n",
      "  check_blas_config()\n"
     ]
    },
    {
     "data": {
      "application/vnd.jupyter.widget-view+json": {
       "model_id": "68496e54039144a7bcb291238120bb22",
       "version_major": 2,
       "version_minor": 0
      },
      "text/plain": [
       "  0%|          | 0/10 [00:00<?, ?it/s]"
      ]
     },
     "metadata": {},
     "output_type": "display_data"
    },
    {
     "name": "stdout",
     "output_type": "stream",
     "text": [
      "EASE is fitting =========>\n"
     ]
    },
    {
     "ename": "MemoryError",
     "evalue": "Unable to allocate 59.8 GiB for an array with shape (126723, 126723) and data type float32",
     "output_type": "error",
     "traceback": [
      "\u001b[1;31m---------------------------------------------------------------------------\u001b[0m",
      "\u001b[1;31mMemoryError\u001b[0m                               Traceback (most recent call last)",
      "Cell \u001b[1;32mIn[21], line 16\u001b[0m\n\u001b[0;32m     11\u001b[0m ease \u001b[38;5;241m=\u001b[39m EASE(user\u001b[38;5;241m=\u001b[39m\u001b[38;5;124m'\u001b[39m\u001b[38;5;124muser\u001b[39m\u001b[38;5;124m'\u001b[39m, item\u001b[38;5;241m=\u001b[39m\u001b[38;5;124m'\u001b[39m\u001b[38;5;124mitem\u001b[39m\u001b[38;5;124m'\u001b[39m, rating\u001b[38;5;241m=\u001b[39m\u001b[38;5;124m'\u001b[39m\u001b[38;5;124mrating\u001b[39m\u001b[38;5;124m'\u001b[39m,\n\u001b[0;32m     12\u001b[0m               l2_reg\u001b[38;5;241m=\u001b[39m\u001b[38;5;241m1000.0\u001b[39m, top_k\u001b[38;5;241m=\u001b[39m\u001b[38;5;241m50\u001b[39m, binarize\u001b[38;5;241m=\u001b[39m\u001b[38;5;28;01mFalse\u001b[39;00m, n_bathes\u001b[38;5;241m=\u001b[39m\u001b[38;5;241m20\u001b[39m)\n\u001b[0;32m     13\u001b[0m slim \u001b[38;5;241m=\u001b[39m SLIM(user\u001b[38;5;241m=\u001b[39m\u001b[38;5;124m'\u001b[39m\u001b[38;5;124muser\u001b[39m\u001b[38;5;124m'\u001b[39m, item\u001b[38;5;241m=\u001b[39m\u001b[38;5;124m'\u001b[39m\u001b[38;5;124mitem\u001b[39m\u001b[38;5;124m'\u001b[39m, rating\u001b[38;5;241m=\u001b[39m\u001b[38;5;124m'\u001b[39m\u001b[38;5;124mrating\u001b[39m\u001b[38;5;124m'\u001b[39m, \n\u001b[0;32m     14\u001b[0m            l1_reg\u001b[38;5;241m=\u001b[39m\u001b[38;5;241m2.\u001b[39m, l2_reg\u001b[38;5;241m=\u001b[39m\u001b[38;5;241m10.\u001b[39m, top_k\u001b[38;5;241m=\u001b[39m\u001b[38;5;241m50\u001b[39m, binarize\u001b[38;5;241m=\u001b[39m\u001b[38;5;28;01mFalse\u001b[39;00m, n_bathes\u001b[38;5;241m=\u001b[39m\u001b[38;5;241m20\u001b[39m)\n\u001b[1;32m---> 16\u001b[0m ease_recommendations \u001b[38;5;241m=\u001b[39m \u001b[43mease\u001b[49m\u001b[38;5;241;43m.\u001b[39;49m\u001b[43mfit_predict\u001b[49m\u001b[43m(\u001b[49m\u001b[43mtrain\u001b[49m\u001b[43m)\u001b[49m\n",
      "File \u001b[1;32mD:\\Diplom\\Diploma_work\\models.py:208\u001b[0m, in \u001b[0;36mEASE.fit_predict\u001b[1;34m(self, df)\u001b[0m\n\u001b[0;32m    206\u001b[0m G \u001b[38;5;241m=\u001b[39m X\u001b[38;5;241m.\u001b[39mT \u001b[38;5;241m@\u001b[39m X\n\u001b[0;32m    207\u001b[0m G \u001b[38;5;241m+\u001b[39m\u001b[38;5;241m=\u001b[39m \u001b[38;5;28mself\u001b[39m\u001b[38;5;241m.\u001b[39ml2_reg \u001b[38;5;241m*\u001b[39m sp\u001b[38;5;241m.\u001b[39midentity(G\u001b[38;5;241m.\u001b[39mshape[\u001b[38;5;241m0\u001b[39m])\u001b[38;5;241m.\u001b[39mastype(np\u001b[38;5;241m.\u001b[39mfloat32)\n\u001b[1;32m--> 208\u001b[0m G \u001b[38;5;241m=\u001b[39m \u001b[43mG\u001b[49m\u001b[38;5;241;43m.\u001b[39;49m\u001b[43mtodense\u001b[49m\u001b[43m(\u001b[49m\u001b[43m)\u001b[49m\n\u001b[0;32m    210\u001b[0m P \u001b[38;5;241m=\u001b[39m np\u001b[38;5;241m.\u001b[39mlinalg\u001b[38;5;241m.\u001b[39minv(G)\n\u001b[0;32m    211\u001b[0m B \u001b[38;5;241m=\u001b[39m np\u001b[38;5;241m.\u001b[39mnan_to_num(P \u001b[38;5;241m/\u001b[39m (\u001b[38;5;241m-\u001b[39mnp\u001b[38;5;241m.\u001b[39mdiag(P)))\n",
      "File \u001b[1;32mD:\\Anaconda\\lib\\site-packages\\scipy\\sparse\\_base.py:946\u001b[0m, in \u001b[0;36mspmatrix.todense\u001b[1;34m(self, order, out)\u001b[0m\n\u001b[0;32m    916\u001b[0m \u001b[38;5;28;01mdef\u001b[39;00m \u001b[38;5;21mtodense\u001b[39m(\u001b[38;5;28mself\u001b[39m, order\u001b[38;5;241m=\u001b[39m\u001b[38;5;28;01mNone\u001b[39;00m, out\u001b[38;5;241m=\u001b[39m\u001b[38;5;28;01mNone\u001b[39;00m):\n\u001b[0;32m    917\u001b[0m \u001b[38;5;250m    \u001b[39m\u001b[38;5;124;03m\"\"\"\u001b[39;00m\n\u001b[0;32m    918\u001b[0m \u001b[38;5;124;03m    Return a dense matrix representation of this matrix.\u001b[39;00m\n\u001b[0;32m    919\u001b[0m \n\u001b[1;32m   (...)\u001b[0m\n\u001b[0;32m    944\u001b[0m \u001b[38;5;124;03m        `numpy.matrix` object that shares the same memory.\u001b[39;00m\n\u001b[0;32m    945\u001b[0m \u001b[38;5;124;03m    \"\"\"\u001b[39;00m\n\u001b[1;32m--> 946\u001b[0m     \u001b[38;5;28;01mreturn\u001b[39;00m \u001b[38;5;28mself\u001b[39m\u001b[38;5;241m.\u001b[39m_ascontainer(\u001b[38;5;28;43mself\u001b[39;49m\u001b[38;5;241;43m.\u001b[39;49m\u001b[43mtoarray\u001b[49m\u001b[43m(\u001b[49m\u001b[43morder\u001b[49m\u001b[38;5;241;43m=\u001b[39;49m\u001b[43morder\u001b[49m\u001b[43m,\u001b[49m\u001b[43m \u001b[49m\u001b[43mout\u001b[49m\u001b[38;5;241;43m=\u001b[39;49m\u001b[43mout\u001b[49m\u001b[43m)\u001b[49m)\n",
      "File \u001b[1;32mD:\\Anaconda\\lib\\site-packages\\scipy\\sparse\\_compressed.py:1051\u001b[0m, in \u001b[0;36m_cs_matrix.toarray\u001b[1;34m(self, order, out)\u001b[0m\n\u001b[0;32m   1049\u001b[0m \u001b[38;5;28;01mif\u001b[39;00m out \u001b[38;5;129;01mis\u001b[39;00m \u001b[38;5;28;01mNone\u001b[39;00m \u001b[38;5;129;01mand\u001b[39;00m order \u001b[38;5;129;01mis\u001b[39;00m \u001b[38;5;28;01mNone\u001b[39;00m:\n\u001b[0;32m   1050\u001b[0m     order \u001b[38;5;241m=\u001b[39m \u001b[38;5;28mself\u001b[39m\u001b[38;5;241m.\u001b[39m_swap(\u001b[38;5;124m'\u001b[39m\u001b[38;5;124mcf\u001b[39m\u001b[38;5;124m'\u001b[39m)[\u001b[38;5;241m0\u001b[39m]\n\u001b[1;32m-> 1051\u001b[0m out \u001b[38;5;241m=\u001b[39m \u001b[38;5;28;43mself\u001b[39;49m\u001b[38;5;241;43m.\u001b[39;49m\u001b[43m_process_toarray_args\u001b[49m\u001b[43m(\u001b[49m\u001b[43morder\u001b[49m\u001b[43m,\u001b[49m\u001b[43m \u001b[49m\u001b[43mout\u001b[49m\u001b[43m)\u001b[49m\n\u001b[0;32m   1052\u001b[0m \u001b[38;5;28;01mif\u001b[39;00m \u001b[38;5;129;01mnot\u001b[39;00m (out\u001b[38;5;241m.\u001b[39mflags\u001b[38;5;241m.\u001b[39mc_contiguous \u001b[38;5;129;01mor\u001b[39;00m out\u001b[38;5;241m.\u001b[39mflags\u001b[38;5;241m.\u001b[39mf_contiguous):\n\u001b[0;32m   1053\u001b[0m     \u001b[38;5;28;01mraise\u001b[39;00m \u001b[38;5;167;01mValueError\u001b[39;00m(\u001b[38;5;124m'\u001b[39m\u001b[38;5;124mOutput array must be C or F contiguous\u001b[39m\u001b[38;5;124m'\u001b[39m)\n",
      "File \u001b[1;32mD:\\Anaconda\\lib\\site-packages\\scipy\\sparse\\_base.py:1298\u001b[0m, in \u001b[0;36mspmatrix._process_toarray_args\u001b[1;34m(self, order, out)\u001b[0m\n\u001b[0;32m   1296\u001b[0m     \u001b[38;5;28;01mreturn\u001b[39;00m out\n\u001b[0;32m   1297\u001b[0m \u001b[38;5;28;01melse\u001b[39;00m:\n\u001b[1;32m-> 1298\u001b[0m     \u001b[38;5;28;01mreturn\u001b[39;00m \u001b[43mnp\u001b[49m\u001b[38;5;241;43m.\u001b[39;49m\u001b[43mzeros\u001b[49m\u001b[43m(\u001b[49m\u001b[38;5;28;43mself\u001b[39;49m\u001b[38;5;241;43m.\u001b[39;49m\u001b[43mshape\u001b[49m\u001b[43m,\u001b[49m\u001b[43m \u001b[49m\u001b[43mdtype\u001b[49m\u001b[38;5;241;43m=\u001b[39;49m\u001b[38;5;28;43mself\u001b[39;49m\u001b[38;5;241;43m.\u001b[39;49m\u001b[43mdtype\u001b[49m\u001b[43m,\u001b[49m\u001b[43m \u001b[49m\u001b[43morder\u001b[49m\u001b[38;5;241;43m=\u001b[39;49m\u001b[43morder\u001b[49m\u001b[43m)\u001b[49m\n",
      "\u001b[1;31mMemoryError\u001b[0m: Unable to allocate 59.8 GiB for an array with shape (126723, 126723) and data type float32"
     ]
    }
   ],
   "source": [
    "from tabulate import tabulate\n",
    "\n",
    "als = ALS(user='user', item='item', rating='rating',\n",
    "         n_factors=100,\n",
    "         n_iterations=10,\n",
    "         reg=0.001,\n",
    "         top_k=50,\n",
    "         binarize=False)\n",
    "als_recommendations = als.fit_predict(train)\n",
    "\n",
    "ease = EASE(user='user', item='item', rating='rating',\n",
    "              l2_reg=1000.0, top_k=50, binarize=False, n_bathes=20)\n",
    "slim = SLIM(user='user', item='item', rating='rating', \n",
    "           l1_reg=2., l2_reg=10., top_k=50, binarize=False, n_bathes=20)\n",
    "\n",
    "ease_recommendations = ease.fit_predict(train)\n",
    "#slim_recommendations = slim.fit_predict(train)"
   ]
  },
  {
   "cell_type": "code",
   "execution_count": 5,
   "id": "15c363e8-d0cb-4a95-b26e-3fd69975cfab",
   "metadata": {},
   "outputs": [],
   "source": [
    "tab = {'model': ['ALS', 'EASE']}\n",
    "\n",
    "for k in [1, 5, 10, 50]:\n",
    "    tab['recall@' + str(k)] = [\n",
    "        recall_k(als_recommendations, test, user='user', item='item', rating='scores', k=k),\n",
    "        recall_k(ease_recommendations, test, user='user', item='item', rating='scores', k=k)\n",
    "    ]\n",
    "\n",
    "for k in [1, 5, 10, 50]:\n",
    "    tab['NDCG@' + str(k)] = [\n",
    "        ndcg_k(als_recommendations, test, user='user', item='item', rating='scores', k=k),\n",
    "        ndcg_k(ease_recommendations, test, user='user', item='item', rating='scores', k=k),\n",
    "    ]"
   ]
  },
  {
   "cell_type": "code",
   "execution_count": 6,
   "id": "82bd6324-5a10-4fc9-98f0-8ac29a93bf63",
   "metadata": {},
   "outputs": [
    {
     "name": "stdout",
     "output_type": "stream",
     "text": [
      "| model   |  recall@1  |  recall@5  |  recall@10  |  recall@50  |   NDCG@1   |  NDCG@5   |  NDCG@10  |  NDCG@50  |\n",
      "|---------|------------|------------|-------------|-------------|------------|-----------|-----------|-----------|\n",
      "| ALS     | 0.0044457  | 0.0248324  |  0.0521179  |  0.227142   | 0.00652019 | 0.0410698 | 0.0631442 | 0.0955105 |\n",
      "| EASE    | 0.00259041 | 0.00560405 | 0.00925808  |  0.0384197  | 0.00276548 | 0.0113797 | 0.0172511 | 0.0252204 |\n"
     ]
    }
   ],
   "source": [
    "print(tabulate(tab, headers=\"keys\", tablefmt='github', numalign='center'))"
   ]
  },
  {
   "cell_type": "code",
   "execution_count": 6,
   "id": "dd92d060-815f-4739-b457-818e6a7547a1",
   "metadata": {},
   "outputs": [
    {
     "data": {
      "text/html": [
       "<div><style>\n",
       ".dataframe > thead > tr,\n",
       ".dataframe > tbody > tr {\n",
       "  text-align: right;\n",
       "  white-space: pre-wrap;\n",
       "}\n",
       "</style>\n",
       "<small>shape: (6_037, 2)</small><table border=\"1\" class=\"dataframe\"><thead><tr><th>user</th><th>item</th></tr><tr><td>i64</td><td>list[i64]</td></tr></thead><tbody><tr><td>1998</td><td>[908, 2005, … 948]</td></tr><tr><td>5660</td><td>[1210, 485, … 2985]</td></tr><tr><td>2120</td><td>[1198, 2959, … 300]</td></tr><tr><td>2233</td><td>[765, 1197, … 529]</td></tr><tr><td>3957</td><td>[1276, 1961, … 2100]</td></tr><tr><td>&hellip;</td><td>&hellip;</td></tr><tr><td>4832</td><td>[1197, 1093, … 2081]</td></tr><tr><td>5987</td><td>[593, 3481, … 296]</td></tr><tr><td>494</td><td>[1270, 1272, … 589]</td></tr><tr><td>5195</td><td>[955, 1210, … 898]</td></tr><tr><td>4710</td><td>[969, 260, … 2927]</td></tr></tbody></table></div>"
      ],
      "text/plain": [
       "shape: (6_037, 2)\n",
       "┌──────┬──────────────────────┐\n",
       "│ user ┆ item                 │\n",
       "│ ---  ┆ ---                  │\n",
       "│ i64  ┆ list[i64]            │\n",
       "╞══════╪══════════════════════╡\n",
       "│ 1998 ┆ [908, 2005, … 948]   │\n",
       "│ 5660 ┆ [1210, 485, … 2985]  │\n",
       "│ 2120 ┆ [1198, 2959, … 300]  │\n",
       "│ 2233 ┆ [765, 1197, … 529]   │\n",
       "│ 3957 ┆ [1276, 1961, … 2100] │\n",
       "│ …    ┆ …                    │\n",
       "│ 4832 ┆ [1197, 1093, … 2081] │\n",
       "│ 5987 ┆ [593, 3481, … 296]   │\n",
       "│ 494  ┆ [1270, 1272, … 589]  │\n",
       "│ 5195 ┆ [955, 1210, … 898]   │\n",
       "│ 4710 ┆ [969, 260, … 2927]   │\n",
       "└──────┴──────────────────────┘"
      ]
     },
     "execution_count": 6,
     "metadata": {},
     "output_type": "execute_result"
    }
   ],
   "source": [
    "tab = {'model': ['ALS', 'EASE', 'SLIM']}\n",
    "\n",
    "for k in [1, 5, 10, 50]:\n",
    "    tab['recall@' + str(k)] = [\n",
    "        recall_k(als_recommendations, test, user='user', item='item', rating='scores', k=k),\n",
    "        recall_k(ease_recommendations, test, user='user', item='item', rating='scores', k=k),\n",
    "        recall_k(slim_recommendations, test, user='user', item='item', rating='scores', k=k)\n",
    "    ]\n",
    "\n",
    "for k in [1, 5, 10, 50]:\n",
    "    tab['NDCG@' + str(k)] = [\n",
    "        ndcg_k(als_recommendations, test, user='user', item='item', rating='scores', k=k),\n",
    "        ndcg_k(ease_recommendations, test, user='user', item='item', rating='scores', k=k),\n",
    "        ndcg_k(slim_recommendations, test, user='user', item='item', rating='scores', k=k)\n",
    "    ]\n",
    "    "
   ]
  },
  {
   "cell_type": "code",
   "execution_count": 5,
   "id": "7fdd860d-2de4-4c6a-9ffb-81424843bb27",
   "metadata": {},
   "outputs": [
    {
     "name": "stdout",
     "output_type": "stream",
     "text": [
      "EASE is fitting =========>\n",
      "[[0. 0. 0. ... 0. 0. 0.]\n",
      " [0. 0. 0. ... 0. 0. 0.]\n",
      " [0. 0. 0. ... 0. 0. 0.]\n",
      " ...\n",
      " [0. 0. 0. ... 0. 0. 0.]\n",
      " [0. 0. 0. ... 0. 0. 0.]\n",
      " [0. 0. 0. ... 0. 0. 0.]]\n"
     ]
    },
    {
     "ename": "AttributeError",
     "evalue": "module 'numpy' has no attribute 'nun_to_num'",
     "output_type": "error",
     "traceback": [
      "\u001b[1;31m---------------------------------------------------------------------------\u001b[0m",
      "\u001b[1;31mAttributeError\u001b[0m                            Traceback (most recent call last)",
      "Cell \u001b[1;32mIn[5], line 3\u001b[0m\n\u001b[0;32m      1\u001b[0m ease \u001b[38;5;241m=\u001b[39m EASE(user\u001b[38;5;241m=\u001b[39m\u001b[38;5;124m'\u001b[39m\u001b[38;5;124muser\u001b[39m\u001b[38;5;124m'\u001b[39m, item\u001b[38;5;241m=\u001b[39m\u001b[38;5;124m'\u001b[39m\u001b[38;5;124mitem\u001b[39m\u001b[38;5;124m'\u001b[39m, rating\u001b[38;5;241m=\u001b[39m\u001b[38;5;124m'\u001b[39m\u001b[38;5;124mrating\u001b[39m\u001b[38;5;124m'\u001b[39m,\n\u001b[0;32m      2\u001b[0m               l2_reg\u001b[38;5;241m=\u001b[39m\u001b[38;5;241m500.0\u001b[39m, top_k\u001b[38;5;241m=\u001b[39m\u001b[38;5;241m50\u001b[39m, binarize\u001b[38;5;241m=\u001b[39m\u001b[38;5;28;01mFalse\u001b[39;00m, n_bathes\u001b[38;5;241m=\u001b[39m\u001b[38;5;241m20\u001b[39m)\n\u001b[1;32m----> 3\u001b[0m ease_recommendations \u001b[38;5;241m=\u001b[39m \u001b[43mease\u001b[49m\u001b[38;5;241;43m.\u001b[39;49m\u001b[43mfit_predict\u001b[49m\u001b[43m(\u001b[49m\u001b[43mtrain\u001b[49m\u001b[43m)\u001b[49m\n",
      "File \u001b[1;32mD:\\Diplom\\Diploma_work\\models.py:212\u001b[0m, in \u001b[0;36mEASE.fit_predict\u001b[1;34m(self, df)\u001b[0m\n\u001b[0;32m    210\u001b[0m P \u001b[38;5;241m=\u001b[39m np\u001b[38;5;241m.\u001b[39mlinalg\u001b[38;5;241m.\u001b[39minv(G)\n\u001b[0;32m    211\u001b[0m \u001b[38;5;28mprint\u001b[39m(P)\n\u001b[1;32m--> 212\u001b[0m B \u001b[38;5;241m=\u001b[39m \u001b[43mnp\u001b[49m\u001b[38;5;241;43m.\u001b[39;49m\u001b[43mnun_to_num\u001b[49m(P \u001b[38;5;241m/\u001b[39m (\u001b[38;5;241m-\u001b[39mnp\u001b[38;5;241m.\u001b[39mdiag(P)))\n\u001b[0;32m    213\u001b[0m np\u001b[38;5;241m.\u001b[39mfill_diagonal(B, \u001b[38;5;241m0.0\u001b[39m)\n\u001b[0;32m    214\u001b[0m \u001b[38;5;28mself\u001b[39m\u001b[38;5;241m.\u001b[39mitem_similarity \u001b[38;5;241m=\u001b[39m B\n",
      "File \u001b[1;32m~\\AppData\\Roaming\\Python\\Python39\\site-packages\\numpy\\__init__.py:315\u001b[0m, in \u001b[0;36m__getattr__\u001b[1;34m(attr)\u001b[0m\n\u001b[0;32m    312\u001b[0m     \u001b[38;5;28;01mfrom\u001b[39;00m \u001b[38;5;21;01m.\u001b[39;00m\u001b[38;5;21;01mtesting\u001b[39;00m \u001b[38;5;28;01mimport\u001b[39;00m Tester\n\u001b[0;32m    313\u001b[0m     \u001b[38;5;28;01mreturn\u001b[39;00m Tester\n\u001b[1;32m--> 315\u001b[0m \u001b[38;5;28;01mraise\u001b[39;00m \u001b[38;5;167;01mAttributeError\u001b[39;00m(\u001b[38;5;124m\"\u001b[39m\u001b[38;5;124mmodule \u001b[39m\u001b[38;5;132;01m{!r}\u001b[39;00m\u001b[38;5;124m has no attribute \u001b[39m\u001b[38;5;124m\"\u001b[39m\n\u001b[0;32m    316\u001b[0m                      \u001b[38;5;124m\"\u001b[39m\u001b[38;5;132;01m{!r}\u001b[39;00m\u001b[38;5;124m\"\u001b[39m\u001b[38;5;241m.\u001b[39mformat(\u001b[38;5;18m__name__\u001b[39m, attr))\n",
      "\u001b[1;31mAttributeError\u001b[0m: module 'numpy' has no attribute 'nun_to_num'"
     ]
    }
   ],
   "source": [
    "ease = EASE(user='user', item='item', rating='rating',\n",
    "              l2_reg=500.0, top_k=50, binarize=False, n_bathes=20)\n",
    "ease_recommendations = ease.fit_predict(train)"
   ]
  },
  {
   "cell_type": "code",
   "execution_count": 7,
   "id": "680e7dc6-391a-4bd4-a560-15bf0fd359d5",
   "metadata": {},
   "outputs": [
    {
     "data": {
      "text/html": [
       "<div><style>\n",
       ".dataframe > thead > tr,\n",
       ".dataframe > tbody > tr {\n",
       "  text-align: right;\n",
       "  white-space: pre-wrap;\n",
       "}\n",
       "</style>\n",
       "<small>shape: (6_924_650, 3)</small><table border=\"1\" class=\"dataframe\"><thead><tr><th>scores</th><th>user</th><th>item</th></tr><tr><td>f32</td><td>i64</td><td>i64</td></tr></thead><tbody><tr><td>1.180452</td><td>1</td><td>1748</td></tr><tr><td>1.161999</td><td>1</td><td>111</td></tr><tr><td>1.150979</td><td>1</td><td>2951</td></tr><tr><td>1.145254</td><td>1</td><td>741</td></tr><tr><td>1.144478</td><td>1</td><td>1288</td></tr><tr><td>&hellip;</td><td>&hellip;</td><td>&hellip;</td></tr><tr><td>1.182347</td><td>138493</td><td>3258</td></tr><tr><td>1.181499</td><td>138493</td><td>293</td></tr><tr><td>1.179177</td><td>138493</td><td>1665</td></tr><tr><td>1.178197</td><td>138493</td><td>1298</td></tr><tr><td>1.174269</td><td>138493</td><td>1211</td></tr></tbody></table></div>"
      ],
      "text/plain": [
       "shape: (6_924_650, 3)\n",
       "┌──────────┬────────┬──────┐\n",
       "│ scores   ┆ user   ┆ item │\n",
       "│ ---      ┆ ---    ┆ ---  │\n",
       "│ f32      ┆ i64    ┆ i64  │\n",
       "╞══════════╪════════╪══════╡\n",
       "│ 1.180452 ┆ 1      ┆ 1748 │\n",
       "│ 1.161999 ┆ 1      ┆ 111  │\n",
       "│ 1.150979 ┆ 1      ┆ 2951 │\n",
       "│ 1.145254 ┆ 1      ┆ 741  │\n",
       "│ 1.144478 ┆ 1      ┆ 1288 │\n",
       "│ …        ┆ …      ┆ …    │\n",
       "│ 1.182347 ┆ 138493 ┆ 3258 │\n",
       "│ 1.181499 ┆ 138493 ┆ 293  │\n",
       "│ 1.179177 ┆ 138493 ┆ 1665 │\n",
       "│ 1.178197 ┆ 138493 ┆ 1298 │\n",
       "│ 1.174269 ┆ 138493 ┆ 1211 │\n",
       "└──────────┴────────┴──────┘"
      ]
     },
     "execution_count": 7,
     "metadata": {},
     "output_type": "execute_result"
    }
   ],
   "source": [
    "als_recommendations"
   ]
  },
  {
   "cell_type": "code",
   "execution_count": 24,
   "id": "bbb09073-ab85-4bf3-9543-886e3d82a5a4",
   "metadata": {},
   "outputs": [],
   "source": [
    "a = np.array([1, 2, 3, 4, 5])\n",
    "b = np.array([1, 1, np.nan, 1, 1])\n",
    "c = a / b"
   ]
  },
  {
   "cell_type": "code",
   "execution_count": 25,
   "id": "e3ea3d0c-75a2-43c1-ae17-4663b5725bae",
   "metadata": {},
   "outputs": [
    {
     "data": {
      "text/plain": [
       "array([ 1.,  2., nan,  4.,  5.])"
      ]
     },
     "execution_count": 25,
     "metadata": {},
     "output_type": "execute_result"
    }
   ],
   "source": [
    "c"
   ]
  },
  {
   "cell_type": "code",
   "execution_count": 23,
   "id": "3fc1ae46-564b-4393-82b4-0a102960a5d0",
   "metadata": {},
   "outputs": [],
   "source": [
    "c = np.nan_to_num(c)"
   ]
  }
 ],
 "metadata": {
  "kernelspec": {
   "display_name": "Python 3 (ipykernel)",
   "language": "python",
   "name": "python3"
  },
  "language_info": {
   "codemirror_mode": {
    "name": "ipython",
    "version": 3
   },
   "file_extension": ".py",
   "mimetype": "text/x-python",
   "name": "python",
   "nbconvert_exporter": "python",
   "pygments_lexer": "ipython3",
   "version": "3.9.12"
  }
 },
 "nbformat": 4,
 "nbformat_minor": 5
}
